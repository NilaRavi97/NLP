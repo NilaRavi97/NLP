{
 "cells": [
  {
   "cell_type": "code",
   "execution_count": null,
   "id": "6d849cd5-271d-4de9-9b73-9d5c1a25e17e",
   "metadata": {},
   "outputs": [],
   "source": [
    "# GPT-4 turbo summarization for json input"
   ]
  },
  {
   "cell_type": "code",
   "execution_count": 4,
   "id": "c1c3d8a8-af18-4638-8152-78a906a56527",
   "metadata": {},
   "outputs": [
    {
     "name": "stdout",
     "output_type": "stream",
     "text": [
      "Requirement already satisfied: openai==0.28 in c:\\users\\nila\\appdata\\local\\programs\\python\\python311\\lib\\site-packages (0.28.0)\n",
      "Requirement already satisfied: requests>=2.20 in c:\\users\\nila\\appdata\\local\\programs\\python\\python311\\lib\\site-packages (from openai==0.28) (2.31.0)\n",
      "Requirement already satisfied: tqdm in c:\\users\\nila\\appdata\\local\\programs\\python\\python311\\lib\\site-packages (from openai==0.28) (4.66.1)\n",
      "Requirement already satisfied: aiohttp in c:\\users\\nila\\appdata\\local\\programs\\python\\python311\\lib\\site-packages (from openai==0.28) (3.9.0)\n",
      "Requirement already satisfied: charset-normalizer<4,>=2 in c:\\users\\nila\\appdata\\local\\programs\\python\\python311\\lib\\site-packages (from requests>=2.20->openai==0.28) (3.3.2)\n",
      "Requirement already satisfied: idna<4,>=2.5 in c:\\users\\nila\\appdata\\local\\programs\\python\\python311\\lib\\site-packages (from requests>=2.20->openai==0.28) (3.4)\n",
      "Requirement already satisfied: urllib3<3,>=1.21.1 in c:\\users\\nila\\appdata\\local\\programs\\python\\python311\\lib\\site-packages (from requests>=2.20->openai==0.28) (2.1.0)\n",
      "Requirement already satisfied: certifi>=2017.4.17 in c:\\users\\nila\\appdata\\local\\programs\\python\\python311\\lib\\site-packages (from requests>=2.20->openai==0.28) (2023.11.17)\n",
      "Requirement already satisfied: attrs>=17.3.0 in c:\\users\\nila\\appdata\\local\\programs\\python\\python311\\lib\\site-packages (from aiohttp->openai==0.28) (23.1.0)\n",
      "Requirement already satisfied: multidict<7.0,>=4.5 in c:\\users\\nila\\appdata\\local\\programs\\python\\python311\\lib\\site-packages (from aiohttp->openai==0.28) (6.0.4)\n",
      "Requirement already satisfied: yarl<2.0,>=1.0 in c:\\users\\nila\\appdata\\local\\programs\\python\\python311\\lib\\site-packages (from aiohttp->openai==0.28) (1.9.3)\n",
      "Requirement already satisfied: frozenlist>=1.1.1 in c:\\users\\nila\\appdata\\local\\programs\\python\\python311\\lib\\site-packages (from aiohttp->openai==0.28) (1.4.0)\n",
      "Requirement already satisfied: aiosignal>=1.1.2 in c:\\users\\nila\\appdata\\local\\programs\\python\\python311\\lib\\site-packages (from aiohttp->openai==0.28) (1.3.1)\n",
      "Requirement already satisfied: colorama in c:\\users\\nila\\appdata\\local\\programs\\python\\python311\\lib\\site-packages (from tqdm->openai==0.28) (0.4.6)\n",
      "Note: you may need to restart the kernel to use updated packages.\n"
     ]
    },
    {
     "name": "stderr",
     "output_type": "stream",
     "text": [
      "\n",
      "[notice] A new release of pip is available: 23.3.1 -> 23.3.2\n",
      "[notice] To update, run: python.exe -m pip install --upgrade pip\n"
     ]
    }
   ],
   "source": [
    "pip install openai==0.28"
   ]
  },
  {
   "cell_type": "code",
   "execution_count": 5,
   "id": "570102d2-4aed-4521-b2df-50767f08f04f",
   "metadata": {},
   "outputs": [],
   "source": [
    "import openai"
   ]
  },
  {
   "cell_type": "code",
   "execution_count": 7,
   "id": "ea893e4d-6b03-42f7-9506-837825f64c4b",
   "metadata": {},
   "outputs": [],
   "source": [
    "def chat(Messages):\n",
    "    response = openai.ChatCompletion.create(\n",
    "    model=\"gpt-4-1106-preview\",\n",
    "    messages=Messages\n",
    "    )\n",
    "    return response.choices[0].message.content"
   ]
  },
  {
   "cell_type": "code",
   "execution_count": 21,
   "id": "2da72520-431d-40fc-84fb-c61aeeafd95b",
   "metadata": {},
   "outputs": [],
   "source": [
    "import os\n",
    "# function to porcess json input and create gpt4-turbo summaries\n",
    "def create_gpt4_summaries(input_folder, output_folder):\n",
    "\n",
    "    # Iterate through files in the input folder\n",
    "    for filename in os.listdir(input_folder):\n",
    "        if filename.endswith(\".json\"):\n",
    "            input_file_path = os.path.join(input_folder, filename)\n",
    "\n",
    "            # read the content of the file\n",
    "            with open(input_file_path, 'r', encoding='utf-8') as file:\n",
    "                file_content = file.read()\n",
    "\n",
    "            Messages = [\n",
    "                    {\"role\": \"system\", \"content\": \"As a graph summarizer, your task is to generate a concise summary, within 90 words, of a JSON-based argument graph sourced from a debate platform. The JSON content consists of 'nodes' containing node id and text, while 'edges' establish connections between source and target nodes, indicating relationship type labelled as 'Pro' or 'Con'. You should not add node ids in the final summary\"},\n",
    "                    {\"role\": \"user\", \"content\": file_content }\n",
    "                ]\n",
    "            \n",
    "            final_summary = chat(Messages)\n",
    "\n",
    "            print(filename)\n",
    "    \n",
    "            # write the concatenated result to a text file in the output folder\n",
    "            output_filename = os.path.splitext(filename)[0] + '.txt'\n",
    "            output_file_path = os.path.join(output_folder, output_filename)\n",
    "            with open(output_file_path, 'w', encoding=\"utf8\") as output_file:\n",
    "                output_file.write(final_summary)"
   ]
  },
  {
   "cell_type": "code",
   "execution_count": 22,
   "id": "00d4535e-9645-4e1d-906e-d9ab4faea73b",
   "metadata": {},
   "outputs": [
    {
     "name": "stdout",
     "output_type": "stream",
     "text": [
      "3d-printer-and-guns-should-blueprints-of-3d-printed-weapons-be-prohibited-17593.json\n",
      "a-bar-of-soap-is-better-than-a-bottle-of-shower-gel-21205.json\n",
      "a-childs-primary-carer-should-receive-a-wage-until-the-child-enters-primary-school-or-some-other-form-of-care-17763.json\n",
      "a-flat-asset-tax-is-all-the-tax-we-should-ever-pay-16974.json\n",
      "a-free-press-is-necessary-to-democracy-8559.json\n",
      "a-permanent-venue-for-the-olympic-games-1335.json\n",
      "addressing-psychosocial-factors-is-essential-to-reducing-or-preventing-school-shootings-11784.json\n",
      "affirmative-action-useful-once-outdated-today-1715.json\n",
      "agile-certifications-do-not-advance-agile-thinking-14073.json\n",
      "air-traffic-control-atc-should-not-be-privatized-12138.json\n",
      "alex-jones-has-a-negative-impact-on-society-19233.json\n",
      "all-cars-should-be-run-at-high-revs-sometimes-to-prevent-carbon-build-up-9119.json\n",
      "all-children-should-be-taught-to-code-in-school-6844.json\n",
      "all-dating-sites-should-include-background-checks-17733.json\n",
      "all-drugs-should-be-legalized-7100.json\n",
      "all-human-interaction-should-be-voluntary-6835.json\n",
      "all-transgender-athletes-should-have-to-compete-in-mens-divisions-21194.json\n",
      "all-us-and-eu-sanctions-imposed-on-russia-since-2014-should-be-lifted-25506.json\n",
      "american-civil-war-1861-65-was-mainly-about-slavery-19208.json\n",
      "american-football-should-be-banned-10143.json\n",
      "anarchy-is-the-only-ethical-system-of-society-6144.json\n",
      "are-all-our-actions-selfish-to-some-degree-31063.json\n",
      "are-bitcoin-and-similar-cryptocurrencies-good-for-the-world-333.json\n",
      "are-canadas-new-impaired-driving-laws-appropriate-18375.json\n",
      "are-cats-more-preferred-by-humans-than-dogs-31829.json\n",
      "are-constructed-languages-useful-and-do-we-need-more-of-them-16548.json\n",
      "are-countries-right-to-dispel-russian-diplomats-over-the-skripal-poisoning-case-12134.json\n",
      "are-crop-circles-created-by-extraterrestials-19554.json\n",
      "are-cryptocurrencies-and-blockchain-technologies-the-next-industrial-revolution-2976.json\n",
      "are-decentralized-marketplaces-like-open-bazaar-antithetical-to-privacy-preserving-trustless-marketplaces-18191.json\n",
      "are-exorbitant-transfer-fees-in-football-soccer-unethical-5096.json\n",
      "are-free-markets-better-for-humans-than-regulated-markets-7841.json\n",
      "are-gender-and-sex-the-same-thing-30703.json\n",
      "are-ghosts-real-23956.json\n",
      "are-gmos-the-solution-to-limited-means-14152.json\n",
      "are-homeopathic-remedies-fraudulent-8668.json\n",
      "are-humans-evil-9827.json\n",
      "are-humans-fundamentally-different-from-other-animals-9265.json\n",
      "are-humans-primarily-driven-by-emotions-rather-than-rationality-14191.json\n",
      "are-identity-politics-detrimental-to-society-7018.json\n",
      "are-k-12-teachers-already-paid-enough-in-america-21844.json\n",
      "are-killer-drones-an-acceptable-weapon-in-war-17822.json\n",
      "are-men-the-biggest-problem-mankind-faces-13628.json\n",
      "are-modern-democracies-destined-to-fail-due-to-their-inherent-weaknesses-26330.json\n",
      "are-people-who-do-immoral-things-immoral-9202.json\n",
      "are-problems-in-developing-countries-worse-than-developed-ones-15573.json\n",
      "are-public-speakers-that-promote-self-help-making-a-difference-or-just-enriching-themselves-22957.json\n",
      "are-purity-pledges-harmful-29355.json\n",
      "are-real-estate-brokers-really-necessary-7185.json\n",
      "are-the-milankovitch-cycles-major-causes-of-climate-change-14194.json\n",
      "are-the-rules-of-the-criminal-justice-system-fair-15002.json\n",
      "are-there-any-working-business-models-for-journalism-10310.json\n",
      "are-unions-a-good-thing-2760.json\n",
      "are-we-morally-compelled-to-help-others-in-need-18090.json\n",
      "are-women-better-than-men-26866.json\n",
      "aritificial-intelligence-ai-limiting-an-ais-freedom-of-thought-is-unethical-15943.json\n",
      "arranged-marriages-are-better-than-love-matches-16340.json\n"
     ]
    }
   ],
   "source": [
    "input_folder_path = \"C:/Users/Nila/Documents/Main Scripts_25.12.2023/Jupyter Notebooks/complete testing/llm_input/json_input/\"\n",
    "output_folder_path = \"C:/Users/Nila/Documents/Main Scripts_25.12.2023/Jupyter Notebooks/complete testing/llm_output/GPT4/json/\"\n",
    "\n",
    "#input_folder_path = \"C:/Users/Nila/Documents/Project/benchmark/data/kialo-nilesc/sample-test/input\"\n",
    "#output_folder_path = \"C:/Users/Nila/Documents/Project/benchmark/data/kialo-nilesc/sample-test/output\"\n",
    "\n",
    "create_gpt4_summaries(input_folder_path, output_folder_path)"
   ]
  },
  {
   "cell_type": "code",
   "execution_count": null,
   "id": "a28a05ef-b04a-45c5-91eb-1c287c4d897d",
   "metadata": {},
   "outputs": [],
   "source": []
  }
 ],
 "metadata": {
  "kernelspec": {
   "display_name": "Python 3 (ipykernel)",
   "language": "python",
   "name": "python3"
  },
  "language_info": {
   "codemirror_mode": {
    "name": "ipython",
    "version": 3
   },
   "file_extension": ".py",
   "mimetype": "text/x-python",
   "name": "python",
   "nbconvert_exporter": "python",
   "pygments_lexer": "ipython3",
   "version": "3.11.6"
  }
 },
 "nbformat": 4,
 "nbformat_minor": 5
}
