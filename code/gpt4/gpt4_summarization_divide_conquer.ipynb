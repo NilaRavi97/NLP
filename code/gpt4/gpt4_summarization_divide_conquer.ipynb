{
 "cells": [
  {
   "cell_type": "code",
   "execution_count": 1,
   "id": "a2da0f66-38a3-42ca-9c05-2e98e9346724",
   "metadata": {},
   "outputs": [
    {
     "name": "stdout",
     "output_type": "stream",
     "text": [
      "Requirement already satisfied: arguebuf in c:\\users\\nila\\appdata\\local\\programs\\python\\python311\\lib\\site-packages (2.5.0)\n",
      "Requirement already satisfied: arg-services<2.0,>=1.5 in c:\\users\\nila\\appdata\\local\\programs\\python\\python311\\lib\\site-packages (from arguebuf) (1.6.0)\n",
      "Requirement already satisfied: graphviz<0.21,>=0.20 in c:\\users\\nila\\appdata\\local\\programs\\python\\python311\\lib\\site-packages (from arguebuf) (0.20.1)\n",
      "Requirement already satisfied: lxml<5.0,>=4.9 in c:\\users\\nila\\appdata\\local\\programs\\python\\python311\\lib\\site-packages (from arguebuf) (4.9.3)\n",
      "Requirement already satisfied: networkx<4.0,>=2.8 in c:\\users\\nila\\appdata\\local\\programs\\python\\python311\\lib\\site-packages (from arguebuf) (3.2.1)\n",
      "Requirement already satisfied: pendulum<3.0,>=2.1 in c:\\users\\nila\\appdata\\local\\programs\\python\\python311\\lib\\site-packages (from arguebuf) (2.1.2)\n",
      "Requirement already satisfied: grpc-stubs<2.0,>=1.53 in c:\\users\\nila\\appdata\\local\\programs\\python\\python311\\lib\\site-packages (from arg-services<2.0,>=1.5->arguebuf) (1.53.0.3)\n",
      "Requirement already satisfied: grpcio<2.0,>=1.53 in c:\\users\\nila\\appdata\\local\\programs\\python\\python311\\lib\\site-packages (from arg-services<2.0,>=1.5->arguebuf) (1.59.3)\n",
      "Requirement already satisfied: grpcio-reflection<2.0,>=1.53 in c:\\users\\nila\\appdata\\local\\programs\\python\\python311\\lib\\site-packages (from arg-services<2.0,>=1.5->arguebuf) (1.59.3)\n",
      "Requirement already satisfied: protobuf<5.0,>=4.22 in c:\\users\\nila\\appdata\\local\\programs\\python\\python311\\lib\\site-packages (from arg-services<2.0,>=1.5->arguebuf) (4.23.4)\n",
      "Requirement already satisfied: python-dateutil<3.0,>=2.6 in c:\\users\\nila\\appdata\\local\\programs\\python\\python311\\lib\\site-packages (from pendulum<3.0,>=2.1->arguebuf) (2.8.2)\n",
      "Requirement already satisfied: pytzdata>=2020.1 in c:\\users\\nila\\appdata\\local\\programs\\python\\python311\\lib\\site-packages (from pendulum<3.0,>=2.1->arguebuf) (2020.1)\n",
      "Requirement already satisfied: six>=1.5 in c:\\users\\nila\\appdata\\local\\programs\\python\\python311\\lib\\site-packages (from python-dateutil<3.0,>=2.6->pendulum<3.0,>=2.1->arguebuf) (1.16.0)\n"
     ]
    },
    {
     "name": "stderr",
     "output_type": "stream",
     "text": [
      "\n",
      "[notice] A new release of pip is available: 23.3.1 -> 23.3.2\n",
      "[notice] To update, run: python.exe -m pip install --upgrade pip\n"
     ]
    }
   ],
   "source": [
    "!pip install arguebuf"
   ]
  },
  {
   "cell_type": "code",
   "execution_count": 2,
   "id": "ad4d6e31-3d9d-4e51-ab06-e6e6fb3c7baa",
   "metadata": {},
   "outputs": [
    {
     "name": "stdout",
     "output_type": "stream",
     "text": [
      "Requirement already satisfied: openai==0.28 in c:\\users\\nila\\appdata\\local\\programs\\python\\python311\\lib\\site-packages (0.28.0)\n",
      "Requirement already satisfied: requests>=2.20 in c:\\users\\nila\\appdata\\local\\programs\\python\\python311\\lib\\site-packages (from openai==0.28) (2.31.0)\n",
      "Requirement already satisfied: tqdm in c:\\users\\nila\\appdata\\local\\programs\\python\\python311\\lib\\site-packages (from openai==0.28) (4.66.1)\n",
      "Requirement already satisfied: aiohttp in c:\\users\\nila\\appdata\\local\\programs\\python\\python311\\lib\\site-packages (from openai==0.28) (3.9.0)\n",
      "Requirement already satisfied: charset-normalizer<4,>=2 in c:\\users\\nila\\appdata\\local\\programs\\python\\python311\\lib\\site-packages (from requests>=2.20->openai==0.28) (3.3.2)\n",
      "Requirement already satisfied: idna<4,>=2.5 in c:\\users\\nila\\appdata\\local\\programs\\python\\python311\\lib\\site-packages (from requests>=2.20->openai==0.28) (3.4)\n",
      "Requirement already satisfied: urllib3<3,>=1.21.1 in c:\\users\\nila\\appdata\\local\\programs\\python\\python311\\lib\\site-packages (from requests>=2.20->openai==0.28) (2.1.0)\n",
      "Requirement already satisfied: certifi>=2017.4.17 in c:\\users\\nila\\appdata\\local\\programs\\python\\python311\\lib\\site-packages (from requests>=2.20->openai==0.28) (2023.11.17)\n",
      "Requirement already satisfied: attrs>=17.3.0 in c:\\users\\nila\\appdata\\local\\programs\\python\\python311\\lib\\site-packages (from aiohttp->openai==0.28) (23.1.0)\n",
      "Requirement already satisfied: multidict<7.0,>=4.5 in c:\\users\\nila\\appdata\\local\\programs\\python\\python311\\lib\\site-packages (from aiohttp->openai==0.28) (6.0.4)\n",
      "Requirement already satisfied: yarl<2.0,>=1.0 in c:\\users\\nila\\appdata\\local\\programs\\python\\python311\\lib\\site-packages (from aiohttp->openai==0.28) (1.9.3)\n",
      "Requirement already satisfied: frozenlist>=1.1.1 in c:\\users\\nila\\appdata\\local\\programs\\python\\python311\\lib\\site-packages (from aiohttp->openai==0.28) (1.4.0)\n",
      "Requirement already satisfied: aiosignal>=1.1.2 in c:\\users\\nila\\appdata\\local\\programs\\python\\python311\\lib\\site-packages (from aiohttp->openai==0.28) (1.3.1)\n",
      "Requirement already satisfied: colorama in c:\\users\\nila\\appdata\\local\\programs\\python\\python311\\lib\\site-packages (from tqdm->openai==0.28) (0.4.6)\n"
     ]
    },
    {
     "name": "stderr",
     "output_type": "stream",
     "text": [
      "\n",
      "[notice] A new release of pip is available: 23.3.1 -> 23.3.2\n",
      "[notice] To update, run: python.exe -m pip install --upgrade pip\n"
     ]
    }
   ],
   "source": [
    "!pip install openai==0.28"
   ]
  },
  {
   "cell_type": "code",
   "execution_count": 3,
   "id": "78c45f95-576b-4b55-8960-829bb6575864",
   "metadata": {},
   "outputs": [],
   "source": [
    "import openai"
   ]
  },
  {
   "cell_type": "code",
   "execution_count": 5,
   "id": "3ff5fa55-2f7c-4332-b9a2-b147ea49af00",
   "metadata": {},
   "outputs": [],
   "source": [
    "# change the node type to edges\n",
    "\n",
    "# Function to modify the graph\n",
    "def modify_graph(graph):\n",
    "    for node in graph.nodes:\n",
    "        if graph.nodes[node]['label'] == 'Support':\n",
    "            predecessors = list(graph.predecessors(node))\n",
    "            successors = list(graph.successors(node))\n",
    "\n",
    "            if len(predecessors) == 1 and len(successors) == 1:\n",
    "                # Get the predecessor and successor nodes\n",
    "                pred_node = predecessors[0]\n",
    "                succ_node = successors[0]\n",
    "\n",
    "                # Remove the 'support' node and create a direct edge\n",
    "                graph.remove_edge(pred_node, node)\n",
    "                graph.remove_edge(node, succ_node)\n",
    "                graph.add_edge(pred_node, succ_node, type='support')\n",
    "\n",
    "        if graph.nodes[node]['label'] == 'Attack':\n",
    "            predecessors = list(graph.predecessors(node))\n",
    "            successors = list(graph.successors(node))\n",
    "\n",
    "            if len(predecessors) == 1 and len(successors) == 1:\n",
    "                # Get the predecessor and successor nodes\n",
    "                pred_node = predecessors[0]\n",
    "                succ_node = successors[0]\n",
    "\n",
    "                # Remove the 'attack' node and create a direct edge\n",
    "                graph.remove_edge(pred_node, node)\n",
    "                graph.remove_edge(node, succ_node)\n",
    "                graph.add_edge(pred_node, succ_node, type='attack')\n",
    "\n",
    "        if graph.nodes[node]['label'] == 'Rephrase':\n",
    "            predecessors = list(graph.predecessors(node))\n",
    "            successors = list(graph.successors(node))\n",
    "\n",
    "            if len(predecessors) == 1 and len(successors) == 1:\n",
    "                # Get the predecessor and successor nodes\n",
    "                pred_node = predecessors[0]\n",
    "                succ_node = successors[0]\n",
    "\n",
    "                # Remove the 'attack' node and create a direct edge\n",
    "                graph.remove_edge(pred_node, node)\n",
    "                graph.remove_edge(node, succ_node)\n",
    "                graph.add_edge(pred_node, succ_node, type='rephrase')\n",
    "\n",
    "def remove_support_attack_nodes(graph):\n",
    "    nodes_to_remove = []\n",
    "\n",
    "    for node in graph.nodes:\n",
    "        if graph.nodes[node]['label'] == 'Support' or graph.nodes[node]['label'] == 'Attack' or graph.nodes[node]['label'] == 'Rephrase':\n",
    "            nodes_to_remove.append(node)\n",
    "\n",
    "    graph.remove_nodes_from(nodes_to_remove)"
   ]
  },
  {
   "cell_type": "code",
   "execution_count": 6,
   "id": "43716680-c0dd-4c42-af3d-8da95f74a8fb",
   "metadata": {},
   "outputs": [],
   "source": [
    "def chat(Messages):\n",
    "    response = openai.ChatCompletion.create(\n",
    "    model=\"gpt-4-1106-preview\",\n",
    "    messages=Messages\n",
    "    )\n",
    "    return response.choices[0].message.content"
   ]
  },
  {
   "cell_type": "code",
   "execution_count": 17,
   "id": "3059ed88-c4dc-4292-8903-f61f5422a831",
   "metadata": {},
   "outputs": [],
   "source": [
    "# Function to process children nodes\n",
    "def process_nodes(graph, node, previous_summary=None):\n",
    "        claim = graph.nodes[node]['label']\n",
    "        children = list(graph.predecessors(node))\n",
    "\n",
    "        support_premise = []\n",
    "        attack_premise = []\n",
    "\n",
    "        # Group premises based on support or attack\n",
    "        for child in children:\n",
    "            edge_type = graph.edges[child, node]['type']\n",
    "            if edge_type == 'support':\n",
    "                support_premise.append(graph.nodes[child]['label'])\n",
    "            elif edge_type == 'attack':\n",
    "                attack_premise.append(graph.nodes[child]['label'])\n",
    "\n",
    "        # Generate text based on grouped premises using BART\n",
    "        support_text = \" \".join(support_premise)\n",
    "        attack_text = \" \".join(attack_premise)\n",
    "\n",
    "        if support_text and attack_text:\n",
    "            text_input = f'{claim} because, {support_text}. However,{attack_text}'\n",
    "        elif support_text:\n",
    "            text_input = f'{claim} because, {support_text}'\n",
    "        elif attack_text:\n",
    "            text_input = f'{claim} but, {attack_text}'\n",
    "\n",
    "\n",
    "        if previous_summary:\n",
    "            text_input = f\"{previous_summary}{text_input}\"\n",
    "\n",
    "        print('text_input',text_input)\n",
    "\n",
    "        Messages = [\n",
    "                    {\"role\": \"system\", \"content\": \"You are a text summarizer. Your task is to generate a concise summary of the provided debate within 90 words.\"},\n",
    "                    {\"role\": \"user\", \"content\": text_input }\n",
    "                ]\n",
    "            \n",
    "        summary = chat(Messages)\n",
    "    \n",
    "        print('summary',summary)\n",
    "\n",
    "        summary_text = summary\n",
    "        # Get the next level of nodes\n",
    "        next_nodes = [child for child in children if graph.in_degree(child) > 0]\n",
    "        for n in next_nodes:\n",
    "          summary_text = process_nodes(graph, n, summary_text)\n",
    "\n",
    "        return summary_text"
   ]
  },
  {
   "cell_type": "code",
   "execution_count": 18,
   "id": "59a8d275-669b-443d-8810-958f940bb538",
   "metadata": {},
   "outputs": [],
   "source": [
    "import os\n",
    "import arguebuf as ag\n",
    "import networkx as nx\n",
    "from transformers import pipeline\n",
    "import warnings\n",
    "warnings.filterwarnings(\"ignore\")\n",
    "warnings.filterwarnings(\"ignore\", category=DeprecationWarning)\n",
    "\n",
    "# function to porcess arg graph and create bart divide conquer summaries\n",
    "def create_gpt4_divideconquer_summaries(input_folder, output_folder):\n",
    "\n",
    "    # Iterate through files in the input folder\n",
    "    for filename in os.listdir(input_folder):\n",
    "        if filename.endswith(\".txt\"):\n",
    "            input_file_path = os.path.join(input_folder, filename)\n",
    "            graph = ag.load.file(input_file_path)\n",
    "            ngraph = ag.dump.networkx(graph)\n",
    "\n",
    "            # Call the function to modify the graph\n",
    "            modify_graph(ngraph)\n",
    "            # Call the function to remove support and attack nodes\n",
    "            remove_support_attack_nodes(ngraph)\n",
    "\n",
    "            # Start processing from the root node (claim)\n",
    "            source_node = [node for node in ngraph.nodes() if len(list(ngraph.successors(node))) == 0][0]\n",
    "            final_summary = process_nodes(ngraph, source_node)\n",
    "\n",
    "            # write the concatenated result to a text file in the output folder\n",
    "            output_file_path = os.path.join(output_folder, filename)\n",
    "            with open(output_file_path, 'w', encoding=\"utf8\") as output_file:\n",
    "                output_file.write(final_summary)"
   ]
  },
  {
   "cell_type": "code",
   "execution_count": 19,
   "id": "bed04dbb-9b98-439f-af9f-9863d677794a",
   "metadata": {},
   "outputs": [
    {
     "name": "stdout",
     "output_type": "stream",
     "text": [
      "text_input A child's primary carer should receive a wage from the government until the child enters primary school or some other form of care. because, Such a measure may solve the challenge of low population growth confronting many nations. Raising a child is just as much, if not more, work than jobs which traditionally receive economic reward. Child raising benefits society just as much as any other job and therefore should receive economic recognition.. However,The government may interfere more in parenting practices if the parent essentially becomes an employee. The primary caregiver, usually the parent, chose to have a kid. Society should not be obligated to pay them to deal with their choices. Child raising is the responsibility of the family. People should have children for love, not money. Such a measure may not be economically viable.\n",
      "summary The debate revolves around whether primary caregivers should be paid by the government until a child starts school as a solution to low population growth and recognising child-rearing as valuable work. Supporters argue that raising children is hard work benefiting society and deserves compensation. Critics contend that parenting is a personal choice, not society's financial responsibility, and fear government intrusion into parenting. The economic feasibility of such a measure is also questioned.\n",
      "text_input The debate revolves around whether primary caregivers should be paid by the government until a child starts school as a solution to low population growth and recognising child-rearing as valuable work. Supporters argue that raising children is hard work benefiting society and deserves compensation. Critics contend that parenting is a personal choice, not society's financial responsibility, and fear government intrusion into parenting. The economic feasibility of such a measure is also questioned.The government may interfere more in parenting practices if the parent essentially becomes an employee. because, Honestly, this would sometimes be a GOOD thing. There are loads of inattentive, lazy, or bad parents out there who allow or encourage their children to do things that are immoral, or damaging to society or the environment. Some parents encourage bigotry (racism, sexism, other social 'phobias'), turn a blind eye to shoplifting and other petty crime, encourage animal abuse like throwing rocks at strays, or think education or vaccines are optional.. However,This can be prevented by making the wage unconditional but for the requirement to be a primary carer to a child.\n",
      "summary The debate addresses if primary caregivers should receive government payment until their child starts school, to address low population growth and recognize child-rearing's value. Proponents argue it acknowledges parenting's societal contributions, while critics warn against personal choices becoming public burden and potential for increased government control over parenting. Worries about economic viability also arise. Although acknowledging some parenting could improve with oversight, proposals suggest unconditional payments to avoid undue influence on child-rearing practices.\n",
      "text_input The debate addresses if primary caregivers should receive government payment until their child starts school, to address low population growth and recognize child-rearing's value. Proponents argue it acknowledges parenting's societal contributions, while critics warn against personal choices becoming public burden and potential for increased government control over parenting. Worries about economic viability also arise. Although acknowledging some parenting could improve with oversight, proposals suggest unconditional payments to avoid undue influence on child-rearing practices.The primary caregiver, usually the parent, chose to have a kid. Society should not be obligated to pay them to deal with their choices. but, The sense of the state is precisely to help its citizens providing them equal opportunities. This measure might help low-income families.\n",
      "summary The debate discusses whether primary caregivers should be paid by the government until their child goes to school, in response to low population growth. Supporters contend that this compensates for parenting's societal roles, while opponents fear it may shift personal responsibilities to the state and lead to more state control over parenting. Economic sustainability is also a concern. There's a suggestion that payments should be unconditional to prevent government overreach in child-rearing. The debate balances recognizing parenting's significance with concerns over financial burden and autonomy in family decisions.\n",
      "text_input The debate discusses whether primary caregivers should be paid by the government until their child goes to school, in response to low population growth. Supporters contend that this compensates for parenting's societal roles, while opponents fear it may shift personal responsibilities to the state and lead to more state control over parenting. Economic sustainability is also a concern. There's a suggestion that payments should be unconditional to prevent government overreach in child-rearing. The debate balances recognizing parenting's significance with concerns over financial burden and autonomy in family decisions.The sense of the state is precisely to help its citizens providing them equal opportunities. This measure might help low-income families. because, There is no other reason for the state to exist than making sure all citizens can live a dignified life. ​\n",
      "summary The debate centers on whether caregivers should receive government pay until their children start school, addressing low population growth concerns. Proponents argue it rewards parenting's contribution to society, while detractors warn of increased state intervention and a shift in personal responsibility. Economic viability and the potential for unconditional payments are discussed to avoid government meddling in parenting. The debate weighs the recognition of parenting against the potential financial strain and the preservation of family autonomy. Additionally, the role of the state to ensure equal opportunities and a dignified life for all citizens, especially in low-income families, is highlighted.\n",
      "text_input The debate centers on whether caregivers should receive government pay until their children start school, addressing low population growth concerns. Proponents argue it rewards parenting's contribution to society, while detractors warn of increased state intervention and a shift in personal responsibility. Economic viability and the potential for unconditional payments are discussed to avoid government meddling in parenting. The debate weighs the recognition of parenting against the potential financial strain and the preservation of family autonomy. Additionally, the role of the state to ensure equal opportunities and a dignified life for all citizens, especially in low-income families, is highlighted.Such a measure may solve the challenge of low population growth confronting many nations. because, This kind of measure would provide an economic incentive for people to have children.. However,Low population growth is good for our overpopulated planet\n",
      "summary The debate explores whether caregivers should be paid by the government until their children reach school age to combat low population growth. Proponents value the recognition of parenting, while opponents raise concerns about state interference and shifting personal responsibility. Discussions focus on economic sustainability, the balance of family autonomy, and state roles in equality and dignity for citizens, especially in low-income families. Additionally, the effect of such measures on encouraging childbirth is considered against the backdrop of global overpopulation concerns.\n",
      "text_input The debate explores whether caregivers should be paid by the government until their children reach school age to combat low population growth. Proponents value the recognition of parenting, while opponents raise concerns about state interference and shifting personal responsibility. Discussions focus on economic sustainability, the balance of family autonomy, and state roles in equality and dignity for citizens, especially in low-income families. Additionally, the effect of such measures on encouraging childbirth is considered against the backdrop of global overpopulation concerns.Low population growth is good for our overpopulated planet but, In developed countries, low birthrates are a major social issueas ageing populations require substantial state support while a shrinking workforce is less able to fund that support.\n",
      "summary The debate centers on whether governments should pay caregivers until children are school-aged to address low population growth. Advocates argue it recognizes the importance of parenting, while critics warn of excessive state intervention and dependency. Key topics include the policy's economic viability, family autonomy, and governmental responsibility towards equal dignity, especially for the poor. There's tension between seeing low population growth as beneficial for an overpopulated world and acknowledging the challenges of ageing populations and diminishing workforces in developed nations.\n",
      "text_input The debate centers on whether governments should pay caregivers until children are school-aged to address low population growth. Advocates argue it recognizes the importance of parenting, while critics warn of excessive state intervention and dependency. Key topics include the policy's economic viability, family autonomy, and governmental responsibility towards equal dignity, especially for the poor. There's tension between seeing low population growth as beneficial for an overpopulated world and acknowledging the challenges of ageing populations and diminishing workforces in developed nations.This kind of measure would provide an economic incentive for people to have children. but, This could cause lazy people to just keep having kids for money.\n",
      "summary The debate focuses on the proposal that governments should remunerate caregivers until children reach school age to combat low population growth. Supporters claim this would value parenting and aid population balance, while opponents fear overreliance on state aid and loss of family independence. Discussion points include fiscal feasibility, respect for poor families, and addressing the societal issues of aging populations versus global overpopulation. Critics raise concerns about the potential exploitation of such policies by people who might have children purely for financial gain.\n",
      "text_input The debate focuses on the proposal that governments should remunerate caregivers until children reach school age to combat low population growth. Supporters claim this would value parenting and aid population balance, while opponents fear overreliance on state aid and loss of family independence. Discussion points include fiscal feasibility, respect for poor families, and addressing the societal issues of aging populations versus global overpopulation. Critics raise concerns about the potential exploitation of such policies by people who might have children purely for financial gain.Raising a child is just as much, if not more, work than jobs which traditionally receive economic reward. because, Child rearing has not been acknowledged as work deserving of financial reward in the past because it was almost exclusively completed by women in a a patriarchal society.\n",
      "summary The debate centers on whether governments should pay caregivers until children reach school age to address low population growth. Proponents argue it would acknowledge parenting and help demographic stability. Opponents worry about dependency on state aid and family autonomy loss. Topics include economic viability, respect for low-income families, and solutions for aging populations without exacerbating global overpopulation. Critics warn of policy abuse for financial motives, emphasizing childrearing as unrecognized work due to patriarchal traditions that devalued contributions by women.\n",
      "text_input The debate centers on whether governments should pay caregivers until children reach school age to address low population growth. Proponents argue it would acknowledge parenting and help demographic stability. Opponents worry about dependency on state aid and family autonomy loss. Topics include economic viability, respect for low-income families, and solutions for aging populations without exacerbating global overpopulation. Critics warn of policy abuse for financial motives, emphasizing childrearing as unrecognized work due to patriarchal traditions that devalued contributions by women.Child raising benefits society just as much as any other job and therefore should receive economic recognition. because, The birth of new children is crucial for the maintenance of a substantial workforce, without which an industrial economy can no longer function.. However,Despite societal benefits, monetary exchanges are given by private bodies in exchange for work that produces economic benefits, which is not the case of child raising.\n",
      "summary The debate discusses whether governments should provide financial support to caregivers until children are school-aged to combat low population growth. Supporters argue it would give proper value to parenting and support demographic balance, while critics fear state dependency and the loss of family autonomy. The debate covers economic feasibility, dignity for low-income families, and aging population management without exacerbating overpopulation. There are concerns about potential exploitation of such policies for financial gain, with the underlying issue of childrearing not being recognized as legitimate work due to patriarchal values.\n",
      "text_input The debate discusses whether governments should provide financial support to caregivers until children are school-aged to combat low population growth. Supporters argue it would give proper value to parenting and support demographic balance, while critics fear state dependency and the loss of family autonomy. The debate covers economic feasibility, dignity for low-income families, and aging population management without exacerbating overpopulation. There are concerns about potential exploitation of such policies for financial gain, with the underlying issue of childrearing not being recognized as legitimate work due to patriarchal values.The birth of new children is crucial for the maintenance of a substantial workforce, without which an industrial economy can no longer function. because, Many countries are approaching below replacement fertility rates which may make them economically unsustainable.\n",
      "summary The debate centers on whether governments should subsidize caregivers until children reach school age as a solution to declining birth rates. Proponents claim it values parenting and addresses demographic imbalance. Critics argue it may lead to state dependency and undermine family autonomy. The discussion includes economic implications, dignity for low-income families, and managing aging populations without contributing to overpopulation. Concerns about exploiting the policy for monetary gain and the lack of acknowledgment of childrearing as legitimate work are also discussed in the context of patriarchal values and the necessity of a stable workforce for industrial economies.\n",
      "text_input The debate centers on whether governments should subsidize caregivers until children reach school age as a solution to declining birth rates. Proponents claim it values parenting and addresses demographic imbalance. Critics argue it may lead to state dependency and undermine family autonomy. The discussion includes economic implications, dignity for low-income families, and managing aging populations without contributing to overpopulation. Concerns about exploiting the policy for monetary gain and the lack of acknowledgment of childrearing as legitimate work are also discussed in the context of patriarchal values and the necessity of a stable workforce for industrial economies.Despite societal benefits, monetary exchanges are given by private bodies in exchange for work that produces economic benefits, which is not the case of child raising. but, Monetary exchanges also occur between governments and individuals.\n",
      "summary The debate focuses on whether governments should subsidize caregivers until children are of school age to counter declining birth rates. Supporters argue that it values parenting and helps balance demographics. However, opponents worry about creating dependency on the state and compromising family independence. Topics discussed include economic impacts, the dignity of low-income families, managing aging populations, and avoiding overpopulation. Issues of potential policy abuse, recognition of childrearing as work, and the tension between patriarchal norms and the need for a stable workforce are highlighted. The debate also touches on how monetary exchanges typically reward economically beneficial work, differing from childrearing subsidies.\n",
      "text_input The debate focuses on whether governments should subsidize caregivers until children are of school age to counter declining birth rates. Supporters argue that it values parenting and helps balance demographics. However, opponents worry about creating dependency on the state and compromising family independence. Topics discussed include economic impacts, the dignity of low-income families, managing aging populations, and avoiding overpopulation. Issues of potential policy abuse, recognition of childrearing as work, and the tension between patriarchal norms and the need for a stable workforce are highlighted. The debate also touches on how monetary exchanges typically reward economically beneficial work, differing from childrearing subsidies.People should have children for love, not money. because, People could start having children for money, which would cheapen the parental experience.. However,Raising children is extremely expensive. This wage would likely offset some of the cost of having a child, but it would not make childrearing profitable.\n",
      "summary The debate discusses government subsidies for caregivers until children reach school age to address low birth rates. Proponents believe it would recognize parenting's value and manage demographic balance, while opponents fear state dependency and loss of family autonomy. Economic effects, respecting low-income families, aging populations, avoiding overpopulation, policy abuse, childrearing as work, traditional norms, and workforce stability are debated. The concern exists that this could incentivize having children for financial gain, yet it is also noted that the subsidy would help cover childrearing costs without making it profitable.\n",
      "text_input The debate discusses government subsidies for caregivers until children reach school age to address low birth rates. Proponents believe it would recognize parenting's value and manage demographic balance, while opponents fear state dependency and loss of family autonomy. Economic effects, respecting low-income families, aging populations, avoiding overpopulation, policy abuse, childrearing as work, traditional norms, and workforce stability are debated. The concern exists that this could incentivize having children for financial gain, yet it is also noted that the subsidy would help cover childrearing costs without making it profitable.Such a measure may not be economically viable. but, In Germany, parents receive an allowance for each child already. This is feasible. Money spent on this policy will generate economic activity as recipients spend it on goods and services, helping it to pay for itself.\n",
      "summary The debate evaluates the proposition of government subsidies for caregivers until children reach school age as a solution to declining birth rates. Advocates argue it acknowledges the value of parenting and helps maintain population balance, while critics warn against potential state dependency and a loss of family independence. Points of contention include economic impacts, support for low-income families, population aging, overpopulation risks, possible exploitation of policy, recognition of childrearing as labor, traditional values, and workforce implications. While there are concerns about people having children for monetary benefits, the policy is seen as a way to support childrearing costs without being overly lucrative. Although questions of economic feasibility arise, evidence from Germany, where parents receive a child allowance, suggests the policy could stimulate economic activity as caregivers spend on goods and services.\n"
     ]
    }
   ],
   "source": [
    "# input and output folder paths\n",
    "# input - arg graphs\n",
    "# output - gpt4 summaries - using divide and conquer.\n",
    "# Replace the below with desired input and output path\n",
    "\n",
    "#input_folder_path = 'C:/Users/Nila/Documents/Main Scripts_25.12.2023/Jupyter Notebooks/complete testing/llm_input/arg_graphs/'\n",
    "#output_folder_path = 'C:/Users/Nila/Documents/Main Scripts_25.12.2023/Jupyter Notebooks/complete testing/llm_output/BART/divide_conquer'\n",
    "\n",
    "input_folder_path = \"C:/Users/Nila/Documents/Project/benchmark/data/kialo-nilesc/sample-test/input/\"\n",
    "output_folder_path = \"C:/Users/Nila/Documents/Project/benchmark/data/kialo-nilesc/sample-test/output/\"\n",
    "\n",
    "create_gpt4_divideconquer_summaries(input_folder_path, output_folder_path)"
   ]
  }
 ],
 "metadata": {
  "kernelspec": {
   "display_name": "Python 3 (ipykernel)",
   "language": "python",
   "name": "python3"
  },
  "language_info": {
   "codemirror_mode": {
    "name": "ipython",
    "version": 3
   },
   "file_extension": ".py",
   "mimetype": "text/x-python",
   "name": "python",
   "nbconvert_exporter": "python",
   "pygments_lexer": "ipython3",
   "version": "3.11.6"
  }
 },
 "nbformat": 4,
 "nbformat_minor": 5
}
