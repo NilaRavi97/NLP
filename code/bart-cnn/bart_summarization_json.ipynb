{
 "cells": [
  {
   "cell_type": "code",
   "execution_count": 1,
   "id": "584e39e3-c342-43bc-933a-8da83f2d3068",
   "metadata": {},
   "outputs": [
    {
     "name": "stderr",
     "output_type": "stream",
     "text": [
      "C:\\Users\\Nila\\AppData\\Local\\Programs\\Python\\Python311\\Lib\\site-packages\\tqdm\\auto.py:21: TqdmWarning: IProgress not found. Please update jupyter and ipywidgets. See https://ipywidgets.readthedocs.io/en/stable/user_install.html\n",
      "  from .autonotebook import tqdm as notebook_tqdm\n"
     ]
    }
   ],
   "source": [
    "from transformers import pipeline\n",
    "\n",
    "summarizer = pipeline(\"summarization\", model=\"facebook/bart-large-cnn\")"
   ]
  },
  {
   "cell_type": "code",
   "execution_count": 13,
   "id": "37a52c9e-1f37-4ee9-88ca-d901f86c9a43",
   "metadata": {},
   "outputs": [],
   "source": [
    "INPUT = \"\"\"\n",
    "Provide an 80-word summary of below JSON-based argument graph sourced from a debate platform. \n",
    "{\n",
    "  \"nodes\": [\n",
    "    {\n",
    "      \"id\": \"1.\",\n",
    "      \"text\": \"A bar of soap is better than a bottle of shower gel.\"\n",
    "    },\n",
    "    {\n",
    "      \"id\": \"1.1.\",\n",
    "      \"text\": \"Shower gel is more hygienic, especially for a shared shower\"\n",
    "    },\n",
    "    {\n",
    "      \"id\": \"1.1.1.\",\n",
    "      \"text\": \"After one person used a bar of soap there might be hair sticking to it.\"\n",
    "    },\n",
    "    {\n",
    "      \"id\": \"1.2.\",\n",
    "      \"text\": \"Shower gels generate a lot more plastic packaging which isn\\u2019t always responsibly recycled\"\n",
    "    },\n",
    "    {\n",
    "      \"id\": \"1.3.\",\n",
    "      \"text\": \"Shower gel has a lot more bulk and water weight so is inefficient to transport/distribute\"\n",
    "    }\n",
    "  ],\n",
    "  \"edges\": [\n",
    "    {\n",
    "      \"source\": \"1.1.\",\n",
    "      \"target\": \"1.\",\n",
    "      \"type\": \"attack\"\n",
    "    },\n",
    "    {\n",
    "      \"source\": \"1.1.1.\",\n",
    "      \"target\": \"1.1.\",\n",
    "      \"type\": \"support\"\n",
    "    },\n",
    "    {\n",
    "      \"source\": \"1.2.\",\n",
    "      \"target\": \"1.\",\n",
    "      \"type\": \"support\"\n",
    "    },\n",
    "    {\n",
    "      \"source\": \"1.3.\",\n",
    "      \"target\": \"1.\",\n",
    "      \"type\": \"support\"\n",
    "    }\n",
    "  ]\n",
    "}\n",
    "\"\"\""
   ]
  },
  {
   "cell_type": "code",
   "execution_count": 14,
   "id": "c1656ec8-82dd-4bc2-9ff8-b4187d27752b",
   "metadata": {},
   "outputs": [
    {
     "name": "stdout",
     "output_type": "stream",
     "text": [
      "[{'summary_text': 'Provide an 80-word summary of below JSON-based argument graph sourced from a debate platform.    \"nodes\": [   “id\": \"1.\", \"text\": \"A bar of soap is better than a bottle of shower gel\"   ] “edges\": [ “source\": “1.1., “target\": ”, “type\": ‘attack’, ‘target’: �'}]\n"
     ]
    }
   ],
   "source": [
    "print(summarizer(INPUT, max_length=100, min_length=80))"
   ]
  },
  {
   "cell_type": "code",
   "execution_count": null,
   "id": "2daa42d7-c032-452a-a148-923a417ecb05",
   "metadata": {},
   "outputs": [],
   "source": [
    "# Summariziers like BART and T5 are not providing good summaries for JSON input"
   ]
  }
 ],
 "metadata": {
  "kernelspec": {
   "display_name": "Python 3 (ipykernel)",
   "language": "python",
   "name": "python3"
  },
  "language_info": {
   "codemirror_mode": {
    "name": "ipython",
    "version": 3
   },
   "file_extension": ".py",
   "mimetype": "text/x-python",
   "name": "python",
   "nbconvert_exporter": "python",
   "pygments_lexer": "ipython3",
   "version": "3.11.6"
  }
 },
 "nbformat": 4,
 "nbformat_minor": 5
}
