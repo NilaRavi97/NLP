{
 "cells": [
  {
   "cell_type": "code",
   "execution_count": 6,
   "id": "a2da0f66-38a3-42ca-9c05-2e98e9346724",
   "metadata": {},
   "outputs": [
    {
     "name": "stdout",
     "output_type": "stream",
     "text": [
      "Requirement already satisfied: arguebuf in c:\\users\\nila\\appdata\\local\\programs\\python\\python311\\lib\\site-packages (2.5.0)\n",
      "Requirement already satisfied: arg-services<2.0,>=1.5 in c:\\users\\nila\\appdata\\local\\programs\\python\\python311\\lib\\site-packages (from arguebuf) (1.6.0)\n",
      "Requirement already satisfied: graphviz<0.21,>=0.20 in c:\\users\\nila\\appdata\\local\\programs\\python\\python311\\lib\\site-packages (from arguebuf) (0.20.1)\n",
      "Requirement already satisfied: lxml<5.0,>=4.9 in c:\\users\\nila\\appdata\\local\\programs\\python\\python311\\lib\\site-packages (from arguebuf) (4.9.3)\n",
      "Requirement already satisfied: networkx<4.0,>=2.8 in c:\\users\\nila\\appdata\\local\\programs\\python\\python311\\lib\\site-packages (from arguebuf) (3.2.1)\n",
      "Requirement already satisfied: pendulum<3.0,>=2.1 in c:\\users\\nila\\appdata\\local\\programs\\python\\python311\\lib\\site-packages (from arguebuf) (2.1.2)\n",
      "Requirement already satisfied: grpc-stubs<2.0,>=1.53 in c:\\users\\nila\\appdata\\local\\programs\\python\\python311\\lib\\site-packages (from arg-services<2.0,>=1.5->arguebuf) (1.53.0.3)\n",
      "Requirement already satisfied: grpcio<2.0,>=1.53 in c:\\users\\nila\\appdata\\local\\programs\\python\\python311\\lib\\site-packages (from arg-services<2.0,>=1.5->arguebuf) (1.59.3)\n",
      "Requirement already satisfied: grpcio-reflection<2.0,>=1.53 in c:\\users\\nila\\appdata\\local\\programs\\python\\python311\\lib\\site-packages (from arg-services<2.0,>=1.5->arguebuf) (1.59.3)\n",
      "Requirement already satisfied: protobuf<5.0,>=4.22 in c:\\users\\nila\\appdata\\local\\programs\\python\\python311\\lib\\site-packages (from arg-services<2.0,>=1.5->arguebuf) (4.23.4)\n",
      "Requirement already satisfied: python-dateutil<3.0,>=2.6 in c:\\users\\nila\\appdata\\local\\programs\\python\\python311\\lib\\site-packages (from pendulum<3.0,>=2.1->arguebuf) (2.8.2)\n",
      "Requirement already satisfied: pytzdata>=2020.1 in c:\\users\\nila\\appdata\\local\\programs\\python\\python311\\lib\\site-packages (from pendulum<3.0,>=2.1->arguebuf) (2020.1)\n",
      "Requirement already satisfied: six>=1.5 in c:\\users\\nila\\appdata\\local\\programs\\python\\python311\\lib\\site-packages (from python-dateutil<3.0,>=2.6->pendulum<3.0,>=2.1->arguebuf) (1.16.0)\n"
     ]
    },
    {
     "name": "stderr",
     "output_type": "stream",
     "text": [
      "\n",
      "[notice] A new release of pip is available: 23.3.1 -> 23.3.2\n",
      "[notice] To update, run: python.exe -m pip install --upgrade pip\n"
     ]
    }
   ],
   "source": [
    "!pip install arguebuf"
   ]
  },
  {
   "cell_type": "code",
   "execution_count": 2,
   "id": "3ff5fa55-2f7c-4332-b9a2-b147ea49af00",
   "metadata": {},
   "outputs": [],
   "source": [
    "# change the node type to edges\n",
    "\n",
    "# Function to modify the graph\n",
    "def modify_graph(graph):\n",
    "    for node in graph.nodes:\n",
    "        if graph.nodes[node]['label'] == 'Support':\n",
    "            predecessors = list(graph.predecessors(node))\n",
    "            successors = list(graph.successors(node))\n",
    "\n",
    "            if len(predecessors) == 1 and len(successors) == 1:\n",
    "                # Get the predecessor and successor nodes\n",
    "                pred_node = predecessors[0]\n",
    "                succ_node = successors[0]\n",
    "\n",
    "                # Remove the 'support' node and create a direct edge\n",
    "                graph.remove_edge(pred_node, node)\n",
    "                graph.remove_edge(node, succ_node)\n",
    "                graph.add_edge(pred_node, succ_node, type='support')\n",
    "\n",
    "        if graph.nodes[node]['label'] == 'Attack':\n",
    "            predecessors = list(graph.predecessors(node))\n",
    "            successors = list(graph.successors(node))\n",
    "\n",
    "            if len(predecessors) == 1 and len(successors) == 1:\n",
    "                # Get the predecessor and successor nodes\n",
    "                pred_node = predecessors[0]\n",
    "                succ_node = successors[0]\n",
    "\n",
    "                # Remove the 'attack' node and create a direct edge\n",
    "                graph.remove_edge(pred_node, node)\n",
    "                graph.remove_edge(node, succ_node)\n",
    "                graph.add_edge(pred_node, succ_node, type='attack')\n",
    "\n",
    "        if graph.nodes[node]['label'] == 'Rephrase':\n",
    "            predecessors = list(graph.predecessors(node))\n",
    "            successors = list(graph.successors(node))\n",
    "\n",
    "            if len(predecessors) == 1 and len(successors) == 1:\n",
    "                # Get the predecessor and successor nodes\n",
    "                pred_node = predecessors[0]\n",
    "                succ_node = successors[0]\n",
    "\n",
    "                # Remove the 'attack' node and create a direct edge\n",
    "                graph.remove_edge(pred_node, node)\n",
    "                graph.remove_edge(node, succ_node)\n",
    "                graph.add_edge(pred_node, succ_node, type='rephrase')\n",
    "\n",
    "def remove_support_attack_nodes(graph):\n",
    "    nodes_to_remove = []\n",
    "\n",
    "    for node in graph.nodes:\n",
    "        if graph.nodes[node]['label'] == 'Support' or graph.nodes[node]['label'] == 'Attack' or graph.nodes[node]['label'] == 'Rephrase':\n",
    "            nodes_to_remove.append(node)\n",
    "\n",
    "    graph.remove_nodes_from(nodes_to_remove)"
   ]
  },
  {
   "cell_type": "code",
   "execution_count": 7,
   "id": "3059ed88-c4dc-4292-8903-f61f5422a831",
   "metadata": {},
   "outputs": [],
   "source": [
    "# Function to process children nodes\n",
    "def process_nodes(graph, node, previous_summary=None):\n",
    "        claim = graph.nodes[node]['label']\n",
    "        children = list(graph.predecessors(node))\n",
    "\n",
    "        support_premise = []\n",
    "        attack_premise = []\n",
    "\n",
    "        # Group premises based on support or attack\n",
    "        for child in children:\n",
    "            edge_type = graph.edges[child, node]['type']\n",
    "            if edge_type == 'support':\n",
    "                support_premise.append(graph.nodes[child]['label'])\n",
    "            elif edge_type == 'attack':\n",
    "                attack_premise.append(graph.nodes[child]['label'])\n",
    "\n",
    "        # Generate text based on grouped premises using BART\n",
    "        support_text = \" \".join(support_premise)\n",
    "        attack_text = \" \".join(attack_premise)\n",
    "\n",
    "        if support_text and attack_text:\n",
    "            text_input = f'{claim} because, {support_text}. However,{attack_text}'\n",
    "        elif support_text:\n",
    "            text_input = f'{claim} because, {support_text}'\n",
    "        elif attack_text:\n",
    "            text_input = f'{claim} but, {attack_text}'\n",
    "\n",
    "\n",
    "        if previous_summary:\n",
    "            text_input = f\"{previous_summary}{text_input}\"\n",
    "\n",
    "        print('text_input',text_input)\n",
    "        summarizer = pipeline(\"summarization\", model=\"facebook/bart-large-cnn\")\n",
    "        summary = summarizer(text_input, max_length=100, min_length=80)\n",
    "        print('summary',summary)\n",
    "\n",
    "        summary_text = summary[0]['summary_text']\n",
    "        # Get the next level of nodes\n",
    "        next_nodes = [child for child in children if graph.in_degree(child) > 0]\n",
    "        for n in next_nodes:\n",
    "          summary_text = process_nodes(graph, n, summary_text)\n",
    "\n",
    "        return summary_text"
   ]
  },
  {
   "cell_type": "code",
   "execution_count": 8,
   "id": "59a8d275-669b-443d-8810-958f940bb538",
   "metadata": {},
   "outputs": [],
   "source": [
    "import os\n",
    "import arguebuf as ag\n",
    "import networkx as nx\n",
    "from transformers import pipeline\n",
    "import warnings\n",
    "warnings.filterwarnings(\"ignore\")\n",
    "warnings.filterwarnings(\"ignore\", category=DeprecationWarning)\n",
    "\n",
    "# function to porcess arg graph and create bart divide conquer summaries\n",
    "def create_bart_divideconquer_summaries(input_folder, output_folder):\n",
    "\n",
    "    # Iterate through files in the input folder\n",
    "    for filename in os.listdir(input_folder):\n",
    "        if filename.endswith(\".txt\"):\n",
    "            input_file_path = os.path.join(input_folder, filename)\n",
    "            graph = ag.load.file(input_file_path)\n",
    "            ngraph = ag.dump.networkx(graph)\n",
    "\n",
    "            # Call the function to modify the graph\n",
    "            modify_graph(ngraph)\n",
    "            # Call the function to remove support and attack nodes\n",
    "            remove_support_attack_nodes(ngraph)\n",
    "\n",
    "            # Start processing from the root node (claim)\n",
    "            source_node = [node for node in ngraph.nodes() if len(list(ngraph.successors(node))) == 0][0]\n",
    "            final_summary = process_nodes(ngraph, source_node)\n",
    "\n",
    "            # write the concatenated result to a text file in the output folder\n",
    "            output_file_path = os.path.join(output_folder, filename)\n",
    "            with open(output_file_path, 'w', encoding=\"utf8\") as output_file:\n",
    "                output_file.write(final_summary)"
   ]
  },
  {
   "cell_type": "code",
   "execution_count": 9,
   "id": "bed04dbb-9b98-439f-af9f-9863d677794a",
   "metadata": {},
   "outputs": [
    {
     "name": "stdout",
     "output_type": "stream",
     "text": [
      "text_input Shame plays an important role in society. because, Keeps people conforming. Ensures people does the right thing Ensures religions are maintained Provides a useful tool to teach people right from wrong. However,A form of control that suppresses individuality Creates feelings of guilt Can create mental health problems Culturally constructed and meaningless\n"
     ]
    },
    {
     "name": "stderr",
     "output_type": "stream",
     "text": [
      "Your max_length is set to 150, but your input_length is only 66. Since this is a summarization task, where outputs shorter than the input are typically wanted, you might consider decreasing max_length manually, e.g. summarizer('...', max_length=33)\n"
     ]
    },
    {
     "name": "stdout",
     "output_type": "stream",
     "text": [
      "summary [{'summary_text': \"Shame plays an important role in society. because, Keeps people conforming. Ensures people does the right thing Ensures religions are maintained. Provides a useful tool to teach people right from wrong. However, a form of control that suppresses individuality Creates feelings of guilt Can create mental health problems Culturally constructed and meaningless. The word 'shame' can be used to refer to any form of negative self-consciousness or self-loathing.\"}]\n",
      "text_input Shame plays an important role in society. because, Keeps people conforming. Ensures people does the right thing Ensures religions are maintained. Provides a useful tool to teach people right from wrong. However, a form of control that suppresses individuality Creates feelings of guilt Can create mental health problems Culturally constructed and meaningless. The word 'shame' can be used to refer to any form of negative self-consciousness or self-loathing.Keeps people conforming. because, Shame is one of the biggest fears\n"
     ]
    },
    {
     "name": "stderr",
     "output_type": "stream",
     "text": [
      "Your max_length is set to 150, but your input_length is only 109. Since this is a summarization task, where outputs shorter than the input are typically wanted, you might consider decreasing max_length manually, e.g. summarizer('...', max_length=54)\n"
     ]
    },
    {
     "name": "stdout",
     "output_type": "stream",
     "text": [
      "summary [{'summary_text': \"'Shame' can be used to refer to any form of negative self-consciousness or self-loathing. Shame plays an important role in society. because, Keeps people conforming. Ensures people does the right thing Ensures religions are maintained. Provides a useful tool to teach people right from wrong. However, a form of control that suppresses individuality Creates feelings of guilt Can create mental health problems Culturally constructed and meaningless.\"}]\n",
      "text_input 'Shame' can be used to refer to any form of negative self-consciousness or self-loathing. Shame plays an important role in society. because, Keeps people conforming. Ensures people does the right thing Ensures religions are maintained. Provides a useful tool to teach people right from wrong. However, a form of control that suppresses individuality Creates feelings of guilt Can create mental health problems Culturally constructed and meaningless.Shame is one of the biggest fears because, This is especially true for women.\n"
     ]
    },
    {
     "name": "stderr",
     "output_type": "stream",
     "text": [
      "Your max_length is set to 150, but your input_length is only 109. Since this is a summarization task, where outputs shorter than the input are typically wanted, you might consider decreasing max_length manually, e.g. summarizer('...', max_length=54)\n"
     ]
    },
    {
     "name": "stdout",
     "output_type": "stream",
     "text": [
      "summary [{'summary_text': \"'Shame' can be used to refer to any form of negative self-consciousness or self-loathing. Shame plays an important role in society. because, Keeps people conforming. Ensures people does the right thing. Provides a useful tool to teach people right from wrong. However, a form of control that suppresses individuality Creates feelings of guilt Can create mental health problems Culturally constructed and meaningless. This is especially true for women.\"}]\n",
      "text_input 'Shame' can be used to refer to any form of negative self-consciousness or self-loathing. Shame plays an important role in society. because, Keeps people conforming. Ensures people does the right thing. Provides a useful tool to teach people right from wrong. However, a form of control that suppresses individuality Creates feelings of guilt Can create mental health problems Culturally constructed and meaningless. This is especially true for women.A form of control that suppresses individuality because, Shame is used to make people behave a certain way. This behavior is usually dictated by the powerful in society and is not necessarily always right. Society is more interesting when it is diverse, which only happens when people are able to be themselves, rather than be controlled by others.. However,Suppressing some aspects of individuality is not necessarily a bad thing, as there are some types of behavior we generally don't want to encourage in society.\n",
      "summary [{'summary_text': \"'Shame' can be used to refer to any form of negative self-consciousness or self-loathing. Shame plays an important role in society. because, Keeps people conforming. Ensures people does the right thing. Provides a useful tool to teach people right from wrong. However, a form of control that suppresses individuality Creates feelings of guilt Can create mental health problems Culturally constructed and meaningless. This is especially true for women.\"}]\n",
      "text_input 'Shame' can be used to refer to any form of negative self-consciousness or self-loathing. Shame plays an important role in society. because, Keeps people conforming. Ensures people does the right thing. Provides a useful tool to teach people right from wrong. However, a form of control that suppresses individuality Creates feelings of guilt Can create mental health problems Culturally constructed and meaningless. This is especially true for women.Ensures people does the right thing because, There are particular norms in society, such as civility and kindness, that it is valuable to uphold. One of the best ways of doing this is by shaming those who do not adhere to these behaviors.\n"
     ]
    },
    {
     "name": "stderr",
     "output_type": "stream",
     "text": [
      "Your max_length is set to 150, but your input_length is only 145. Since this is a summarization task, where outputs shorter than the input are typically wanted, you might consider decreasing max_length manually, e.g. summarizer('...', max_length=72)\n"
     ]
    },
    {
     "name": "stdout",
     "output_type": "stream",
     "text": [
      "summary [{'summary_text': \"'Shame' can be used to refer to any form of negative self-consciousness or self-loathing. Shame plays an important role in society. because, Keeps people conforming. Ensures people does the right thing. Provides a useful tool to teach people right from wrong. However, a form of control that suppresses individuality Creates feelings of guilt Can create mental health problems Culturally constructed and meaningless. This is especially true for women.\"}]\n",
      "text_input 'Shame' can be used to refer to any form of negative self-consciousness or self-loathing. Shame plays an important role in society. because, Keeps people conforming. Ensures people does the right thing. Provides a useful tool to teach people right from wrong. However, a form of control that suppresses individuality Creates feelings of guilt Can create mental health problems Culturally constructed and meaningless. This is especially true for women.Creates feelings of guilt because, People are unlikely to feel like they can take chances in society when they fear social sanctions in the form of being made to feel ashamed and guilty.\n"
     ]
    },
    {
     "name": "stderr",
     "output_type": "stream",
     "text": [
      "Your max_length is set to 150, but your input_length is only 130. Since this is a summarization task, where outputs shorter than the input are typically wanted, you might consider decreasing max_length manually, e.g. summarizer('...', max_length=65)\n"
     ]
    },
    {
     "name": "stdout",
     "output_type": "stream",
     "text": [
      "summary [{'summary_text': \"'Shame' can be used to refer to any form of negative self-consciousness or self-loathing. Shame plays an important role in society. because, Keeps people conforming. Ensures people does the right thing. Provides a useful tool to teach people right from wrong. However, a form of control that suppresses individuality Creates feelings of guilt Can create mental health problems Culturally constructed and meaningless. This is especially true for women.\"}]\n",
      "text_input 'Shame' can be used to refer to any form of negative self-consciousness or self-loathing. Shame plays an important role in society. because, Keeps people conforming. Ensures people does the right thing. Provides a useful tool to teach people right from wrong. However, a form of control that suppresses individuality Creates feelings of guilt Can create mental health problems Culturally constructed and meaningless. This is especially true for women.Provides a useful tool to teach people right from wrong because, Shame can be an important feeling to experience in developing an understanding of how we should behave and treat others.\n"
     ]
    },
    {
     "name": "stderr",
     "output_type": "stream",
     "text": [
      "Your max_length is set to 150, but your input_length is only 128. Since this is a summarization task, where outputs shorter than the input are typically wanted, you might consider decreasing max_length manually, e.g. summarizer('...', max_length=64)\n"
     ]
    },
    {
     "name": "stdout",
     "output_type": "stream",
     "text": [
      "summary [{'summary_text': \"'Shame' can be used to refer to any form of negative self-consciousness or self-loathing. Shame plays an important role in society. because, Keeps people conforming. Ensures people does the right thing. Provides a useful tool to teach people right from wrong. However, a form of control that suppresses individuality Creates feelings of guilt Can create mental health problems Culturally constructed and meaningless. This is especially true for women.\"}]\n"
     ]
    }
   ],
   "source": [
    "# input and output folder paths\n",
    "# input - arg graphs\n",
    "# output - bart summaries - using divide and conquer.\n",
    "# Replace the below with desired input and output path\n",
    "\n",
    "#input_folder_path = 'C:/Users/Nila/Documents/Main Scripts_25.12.2023/Jupyter Notebooks/complete testing/llm_input/arg_graphs/'\n",
    "#output_folder_path = 'C:/Users/Nila/Documents/Main Scripts_25.12.2023/Jupyter Notebooks/complete testing/llm_output/BART/divide_conquer'\n",
    "\n",
    "input_folder_path = \"C:/Users/Nila/Documents/Project/benchmark/data/kialo-nilesc/sample-test/input/\"\n",
    "output_folder_path = \"C:/Users/Nila/Documents/Project/benchmark/data/kialo-nilesc/sample-test/output/\"\n",
    "\n",
    "create_bart_divideconquer_summaries(input_folder_path, output_folder_path)"
   ]
  },
  {
   "cell_type": "code",
   "execution_count": null,
   "id": "7841156a-f368-4831-b303-2bf5dbeee250",
   "metadata": {},
   "outputs": [],
   "source": [
    "# step by step results genererated for title\n",
    "# 'A bar of soap is better than a bottle of shower gel'\n",
    "\n",
    "\"\"\"\n",
    "text_input: A bar of soap is better than a bottle of shower gel. because, Shower gels generate a lot more plastic packaging which isn’t always responsibly recycled Shower gel has a lot more bulk and water weight so is inefficient to transport/distribute Soap is more convenient in use (no bottle to unscrew/open A bar of soap lasts longer. A bar of soap uses less packaging than shower gel Soap is cheaper than shower gel. However,Shower gel is more hygienic, especially for a shared shower It is difficult to wash your hair with a bar of soap. Soap stings your eyes Soap is old-fashioned It is easier to drop soap in the shower.\n",
    "summary: [{'summary_text': 'A bar of soap is better than a bottle of shower gel because, Shower gels generate a lot more plastic packaging which isn’t always responsibly recycled. Soap is more convenient in use (no bottle to unscrew/open) Soap lasts longer and is cheaper than shower gel. However,Shower gel is more hygienic, especially for a shared shower. It is easier to drop soap in the shower.'}]\n",
    "text_input: A bar of soap is better than a bottle of shower gel because, Shower gels generate a lot more plastic packaging which isn’t always responsibly recycled. Soap is more convenient in use (no bottle to unscrew/open) Soap lasts longer and is cheaper than shower gel. However,Shower gel is more hygienic, especially for a shared shower. It is easier to drop soap in the shower.. Shower gel is more hygienic, especially for a shared shower because, After one person used a bar of soap there might be hair sticking to it.\n",
    "summary: [{'summary_text': 'A bar of soap is better than a bottle of shower gel because, Shower gels generate a lot more plastic packaging which isn’t always responsibly recycled. Soap is more convenient in use (no bottle to unscrew/open) Soap lasts longer and is cheaper than shower gel. However,Shower gel is more hygienic, especially for a shared shower. It is easier to drop soap in the shower..'}]\n",
    "text_input: A bar of soap is better than a bottle of shower gel because, Shower gels generate a lot more plastic packaging which isn’t always responsibly recycled. Soap is more convenient in use (no bottle to unscrew/open) Soap lasts longer and is cheaper than shower gel. However,Shower gel is more hygienic, especially for a shared shower. It is easier to drop soap in the shower... It is difficult to wash your hair with a bar of soap. but, Short hair can be just as easily be washed with a soap by just rubbing it over your hair.\n",
    "summary: [{'summary_text': \"A bar of soap is better than a bottle of shower gel because, Shower gels generate a lot more plastic packaging which isn't always responsibly recycled. Soap is more convenient in use (no bottle to unscrew/open) Soap lasts longer and is cheaper than shower gel. However,Shower gel is more hygienic, especially for a shared shower. It is easier to drop soap in the shower... It is difficult to wash your hair with a soap.\"}]\n",
    "text_input: A bar of soap is better than a bottle of shower gel because, Shower gels generate a lot more plastic packaging which isn't always responsibly recycled. Soap is more convenient in use (no bottle to unscrew/open) Soap lasts longer and is cheaper than shower gel. However,Shower gel is more hygienic, especially for a shared shower. It is easier to drop soap in the shower... It is difficult to wash your hair with a soap.. Soap stings your eyes but, A lot of soap does not sting in the eyes. Shower gel can sting in your eyes too.\n",
    "summary: [{'summary_text': 'A bar of soap is better than a bottle of shower gel because, Shower gels generate a lot more plastic packaging. Soap is more convenient in use (no bottle to unscrew/open) Soap lasts longer and is cheaper than shower gel. However,Shower gel is more hygienic, especially for a shared shower. It is easier to drop soap in the shower... It is difficult to wash your hair with a soap.. Soap stings your eyes but, A lot of soap does not sting in the eyes.'}]\n",
    "text_input: A bar of soap is better than a bottle of shower gel because, Shower gels generate a lot more plastic packaging. Soap is more convenient in use (no bottle to unscrew/open) Soap lasts longer and is cheaper than shower gel. However,Shower gel is more hygienic, especially for a shared shower. It is easier to drop soap in the shower... It is difficult to wash your hair with a soap.. Soap stings your eyes but, A lot of soap does not sting in the eyes.. A bar of soap uses less packaging than shower gel because, Given the immense damage plastic does to the environment, this is a vital factor to consider.\n",
    "summary: [{'summary_text': 'A bar of soap is better than a bottle of shower gel because, Shower gels generate a lot more plastic packaging. Soap is more convenient in use (no bottle to unscrew/open) Soap lasts longer and is cheaper than shower gel. However,Shower gel is more hygienic, especially for a shared shower. It is easier to drop soap in the shower... It is difficult to wash your hair with a soap.. Soap stings your eyes but, A lot of soap does not sting in the eyes..'}]\n",
    "final_summary A bar of soap is better than a bottle of shower gel because, Shower gels generate a lot more plastic packaging. Soap is more convenient in use (no bottle to unscrew/open) Soap lasts longer and is cheaper than shower gel. However,Shower gel is more hygienic, especially for a shared shower. It is easier to drop soap in the shower... It is difficult to wash your hair with a soap.. Soap stings your eyes but, A lot of soap does not sting in the eyes..\n",
    "\"\"\""
   ]
  }
 ],
 "metadata": {
  "kernelspec": {
   "display_name": "Python 3 (ipykernel)",
   "language": "python",
   "name": "python3"
  },
  "language_info": {
   "codemirror_mode": {
    "name": "ipython",
    "version": 3
   },
   "file_extension": ".py",
   "mimetype": "text/x-python",
   "name": "python",
   "nbconvert_exporter": "python",
   "pygments_lexer": "ipython3",
   "version": "3.11.6"
  }
 },
 "nbformat": 4,
 "nbformat_minor": 5
}
