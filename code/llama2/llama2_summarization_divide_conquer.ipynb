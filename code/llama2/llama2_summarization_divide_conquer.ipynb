{
 "cells": [
  {
   "cell_type": "code",
   "execution_count": 2,
   "id": "a2da0f66-38a3-42ca-9c05-2e98e9346724",
   "metadata": {},
   "outputs": [
    {
     "name": "stdout",
     "output_type": "stream",
     "text": [
      "Requirement already satisfied: arguebuf in c:\\users\\nila\\appdata\\local\\programs\\python\\python311\\lib\\site-packages (2.5.0)\n",
      "Requirement already satisfied: arg-services<2.0,>=1.5 in c:\\users\\nila\\appdata\\local\\programs\\python\\python311\\lib\\site-packages (from arguebuf) (1.6.0)\n",
      "Requirement already satisfied: graphviz<0.21,>=0.20 in c:\\users\\nila\\appdata\\local\\programs\\python\\python311\\lib\\site-packages (from arguebuf) (0.20.1)\n",
      "Requirement already satisfied: lxml<5.0,>=4.9 in c:\\users\\nila\\appdata\\local\\programs\\python\\python311\\lib\\site-packages (from arguebuf) (4.9.3)\n",
      "Requirement already satisfied: networkx<4.0,>=2.8 in c:\\users\\nila\\appdata\\local\\programs\\python\\python311\\lib\\site-packages (from arguebuf) (3.2.1)\n",
      "Requirement already satisfied: pendulum<3.0,>=2.1 in c:\\users\\nila\\appdata\\local\\programs\\python\\python311\\lib\\site-packages (from arguebuf) (2.1.2)\n",
      "Requirement already satisfied: grpc-stubs<2.0,>=1.53 in c:\\users\\nila\\appdata\\local\\programs\\python\\python311\\lib\\site-packages (from arg-services<2.0,>=1.5->arguebuf) (1.53.0.3)\n",
      "Requirement already satisfied: grpcio<2.0,>=1.53 in c:\\users\\nila\\appdata\\local\\programs\\python\\python311\\lib\\site-packages (from arg-services<2.0,>=1.5->arguebuf) (1.59.3)\n",
      "Requirement already satisfied: grpcio-reflection<2.0,>=1.53 in c:\\users\\nila\\appdata\\local\\programs\\python\\python311\\lib\\site-packages (from arg-services<2.0,>=1.5->arguebuf) (1.59.3)\n",
      "Requirement already satisfied: protobuf<5.0,>=4.22 in c:\\users\\nila\\appdata\\local\\programs\\python\\python311\\lib\\site-packages (from arg-services<2.0,>=1.5->arguebuf) (4.23.4)\n",
      "Requirement already satisfied: python-dateutil<3.0,>=2.6 in c:\\users\\nila\\appdata\\local\\programs\\python\\python311\\lib\\site-packages (from pendulum<3.0,>=2.1->arguebuf) (2.8.2)\n",
      "Requirement already satisfied: pytzdata>=2020.1 in c:\\users\\nila\\appdata\\local\\programs\\python\\python311\\lib\\site-packages (from pendulum<3.0,>=2.1->arguebuf) (2020.1)\n",
      "Requirement already satisfied: six>=1.5 in c:\\users\\nila\\appdata\\local\\programs\\python\\python311\\lib\\site-packages (from python-dateutil<3.0,>=2.6->pendulum<3.0,>=2.1->arguebuf) (1.16.0)\n"
     ]
    },
    {
     "name": "stderr",
     "output_type": "stream",
     "text": [
      "\n",
      "[notice] A new release of pip is available: 23.3.1 -> 23.3.2\n",
      "[notice] To update, run: python.exe -m pip install --upgrade pip\n"
     ]
    }
   ],
   "source": [
    "!pip install arguebuf"
   ]
  },
  {
   "cell_type": "code",
   "execution_count": 2,
   "id": "ad4d6e31-3d9d-4e51-ab06-e6e6fb3c7baa",
   "metadata": {},
   "outputs": [
    {
     "name": "stdout",
     "output_type": "stream",
     "text": [
      "Requirement already satisfied: openai==0.28 in c:\\users\\nila\\appdata\\local\\programs\\python\\python311\\lib\\site-packages (0.28.0)\n",
      "Requirement already satisfied: requests>=2.20 in c:\\users\\nila\\appdata\\local\\programs\\python\\python311\\lib\\site-packages (from openai==0.28) (2.31.0)\n",
      "Requirement already satisfied: tqdm in c:\\users\\nila\\appdata\\local\\programs\\python\\python311\\lib\\site-packages (from openai==0.28) (4.66.1)\n",
      "Requirement already satisfied: aiohttp in c:\\users\\nila\\appdata\\local\\programs\\python\\python311\\lib\\site-packages (from openai==0.28) (3.9.0)\n",
      "Requirement already satisfied: charset-normalizer<4,>=2 in c:\\users\\nila\\appdata\\local\\programs\\python\\python311\\lib\\site-packages (from requests>=2.20->openai==0.28) (3.3.2)\n",
      "Requirement already satisfied: idna<4,>=2.5 in c:\\users\\nila\\appdata\\local\\programs\\python\\python311\\lib\\site-packages (from requests>=2.20->openai==0.28) (3.4)\n",
      "Requirement already satisfied: urllib3<3,>=1.21.1 in c:\\users\\nila\\appdata\\local\\programs\\python\\python311\\lib\\site-packages (from requests>=2.20->openai==0.28) (2.1.0)\n",
      "Requirement already satisfied: certifi>=2017.4.17 in c:\\users\\nila\\appdata\\local\\programs\\python\\python311\\lib\\site-packages (from requests>=2.20->openai==0.28) (2023.11.17)\n",
      "Requirement already satisfied: attrs>=17.3.0 in c:\\users\\nila\\appdata\\local\\programs\\python\\python311\\lib\\site-packages (from aiohttp->openai==0.28) (23.1.0)\n",
      "Requirement already satisfied: multidict<7.0,>=4.5 in c:\\users\\nila\\appdata\\local\\programs\\python\\python311\\lib\\site-packages (from aiohttp->openai==0.28) (6.0.4)\n",
      "Requirement already satisfied: yarl<2.0,>=1.0 in c:\\users\\nila\\appdata\\local\\programs\\python\\python311\\lib\\site-packages (from aiohttp->openai==0.28) (1.9.3)\n",
      "Requirement already satisfied: frozenlist>=1.1.1 in c:\\users\\nila\\appdata\\local\\programs\\python\\python311\\lib\\site-packages (from aiohttp->openai==0.28) (1.4.0)\n",
      "Requirement already satisfied: aiosignal>=1.1.2 in c:\\users\\nila\\appdata\\local\\programs\\python\\python311\\lib\\site-packages (from aiohttp->openai==0.28) (1.3.1)\n",
      "Requirement already satisfied: colorama in c:\\users\\nila\\appdata\\local\\programs\\python\\python311\\lib\\site-packages (from tqdm->openai==0.28) (0.4.6)\n"
     ]
    },
    {
     "name": "stderr",
     "output_type": "stream",
     "text": [
      "\n",
      "[notice] A new release of pip is available: 23.3.1 -> 23.3.2\n",
      "[notice] To update, run: python.exe -m pip install --upgrade pip\n"
     ]
    }
   ],
   "source": [
    "!pip install openai==0.28"
   ]
  },
  {
   "cell_type": "code",
   "execution_count": 3,
   "id": "78c45f95-576b-4b55-8960-829bb6575864",
   "metadata": {},
   "outputs": [],
   "source": [
    "import openai"
   ]
  },
  {
   "cell_type": "code",
   "execution_count": 4,
   "id": "3ff5fa55-2f7c-4332-b9a2-b147ea49af00",
   "metadata": {},
   "outputs": [],
   "source": [
    "# change the node type to edges\n",
    "\n",
    "# Function to modify the graph\n",
    "def modify_graph(graph):\n",
    "    for node in graph.nodes:\n",
    "        if graph.nodes[node]['label'] == 'Support':\n",
    "            predecessors = list(graph.predecessors(node))\n",
    "            successors = list(graph.successors(node))\n",
    "\n",
    "            if len(predecessors) == 1 and len(successors) == 1:\n",
    "                # Get the predecessor and successor nodes\n",
    "                pred_node = predecessors[0]\n",
    "                succ_node = successors[0]\n",
    "\n",
    "                # Remove the 'support' node and create a direct edge\n",
    "                graph.remove_edge(pred_node, node)\n",
    "                graph.remove_edge(node, succ_node)\n",
    "                graph.add_edge(pred_node, succ_node, type='support')\n",
    "\n",
    "        if graph.nodes[node]['label'] == 'Attack':\n",
    "            predecessors = list(graph.predecessors(node))\n",
    "            successors = list(graph.successors(node))\n",
    "\n",
    "            if len(predecessors) == 1 and len(successors) == 1:\n",
    "                # Get the predecessor and successor nodes\n",
    "                pred_node = predecessors[0]\n",
    "                succ_node = successors[0]\n",
    "\n",
    "                # Remove the 'attack' node and create a direct edge\n",
    "                graph.remove_edge(pred_node, node)\n",
    "                graph.remove_edge(node, succ_node)\n",
    "                graph.add_edge(pred_node, succ_node, type='attack')\n",
    "\n",
    "        if graph.nodes[node]['label'] == 'Rephrase':\n",
    "            predecessors = list(graph.predecessors(node))\n",
    "            successors = list(graph.successors(node))\n",
    "\n",
    "            if len(predecessors) == 1 and len(successors) == 1:\n",
    "                # Get the predecessor and successor nodes\n",
    "                pred_node = predecessors[0]\n",
    "                succ_node = successors[0]\n",
    "\n",
    "                # Remove the 'attack' node and create a direct edge\n",
    "                graph.remove_edge(pred_node, node)\n",
    "                graph.remove_edge(node, succ_node)\n",
    "                graph.add_edge(pred_node, succ_node, type='rephrase')\n",
    "\n",
    "def remove_support_attack_nodes(graph):\n",
    "    nodes_to_remove = []\n",
    "\n",
    "    for node in graph.nodes:\n",
    "        if graph.nodes[node]['label'] == 'Support' or graph.nodes[node]['label'] == 'Attack' or graph.nodes[node]['label'] == 'Rephrase':\n",
    "            nodes_to_remove.append(node)\n",
    "\n",
    "    graph.remove_nodes_from(nodes_to_remove)"
   ]
  },
  {
   "cell_type": "code",
   "execution_count": 6,
   "id": "43716680-c0dd-4c42-af3d-8da95f74a8fb",
   "metadata": {},
   "outputs": [],
   "source": [
    "def chat(Messages):\n",
    "    response = openai.ChatCompletion.create(\n",
    "    model=\"ollama/llama2:70b\",\n",
    "    messages=Messages\n",
    "    )\n",
    "    return response.choices[0].message.content"
   ]
  },
  {
   "cell_type": "code",
   "execution_count": 8,
   "id": "3059ed88-c4dc-4292-8903-f61f5422a831",
   "metadata": {},
   "outputs": [],
   "source": [
    "# Function to process children nodes\n",
    "def process_nodes(graph, node, previous_summary=None):\n",
    "        claim = graph.nodes[node]['label']\n",
    "        children = list(graph.predecessors(node))\n",
    "\n",
    "        support_premise = []\n",
    "        attack_premise = []\n",
    "\n",
    "        # Group premises based on support or attack\n",
    "        for child in children:\n",
    "            edge_type = graph.edges[child, node]['type']\n",
    "            if edge_type == 'support':\n",
    "                support_premise.append(graph.nodes[child]['label'])\n",
    "            elif edge_type == 'attack':\n",
    "                attack_premise.append(graph.nodes[child]['label'])\n",
    "\n",
    "        # Generate text based on grouped premises using BART\n",
    "        support_text = \" \".join(support_premise)\n",
    "        attack_text = \" \".join(attack_premise)\n",
    "\n",
    "        if support_text and attack_text:\n",
    "            text_input = f'{claim} because, {support_text}. However,{attack_text}'\n",
    "        elif support_text:\n",
    "            text_input = f'{claim} because, {support_text}'\n",
    "        elif attack_text:\n",
    "            text_input = f'{claim} but, {attack_text}'\n",
    "\n",
    "\n",
    "        if previous_summary:\n",
    "            text_input = f\"{previous_summary}{text_input}\"\n",
    "\n",
    "        print('text_input',text_input)\n",
    "\n",
    "        Messages = [\n",
    "                    {\"role\": \"system\", \"content\": \"You are a text summarizer. your task is to generate a concise summary of the provided debate within the strict 90-word limit without making assumptions or utilizing bullet points.\"},\n",
    "                    {\"role\": \"user\", \"content\": text_input }\n",
    "                ]\n",
    "            \n",
    "        summary = chat(Messages)\n",
    "    \n",
    "        print('summary',summary)\n",
    "\n",
    "        summary_text = summary\n",
    "        # Get the next level of nodes\n",
    "        next_nodes = [child for child in children if graph.in_degree(child) > 0]\n",
    "        for n in next_nodes:\n",
    "          summary_text = process_nodes(graph, n, summary_text)\n",
    "\n",
    "        return summary_text"
   ]
  },
  {
   "cell_type": "code",
   "execution_count": 9,
   "id": "59a8d275-669b-443d-8810-958f940bb538",
   "metadata": {},
   "outputs": [
    {
     "name": "stderr",
     "output_type": "stream",
     "text": [
      "C:\\Users\\Nila\\AppData\\Local\\Programs\\Python\\Python311\\Lib\\site-packages\\tqdm\\auto.py:21: TqdmWarning: IProgress not found. Please update jupyter and ipywidgets. See https://ipywidgets.readthedocs.io/en/stable/user_install.html\n",
      "  from .autonotebook import tqdm as notebook_tqdm\n"
     ]
    }
   ],
   "source": [
    "import os\n",
    "import arguebuf as ag\n",
    "import networkx as nx\n",
    "from transformers import pipeline\n",
    "import warnings\n",
    "warnings.filterwarnings(\"ignore\")\n",
    "warnings.filterwarnings(\"ignore\", category=DeprecationWarning)\n",
    "\n",
    "# function to porcess arg graph and create bart divide conquer summaries\n",
    "def create_llama2_divideconquer_summaries(input_folder, output_folder):\n",
    "\n",
    "    # Iterate through files in the input folder\n",
    "    for filename in os.listdir(input_folder):\n",
    "        if filename.endswith(\".txt\"):\n",
    "            input_file_path = os.path.join(input_folder, filename)\n",
    "            graph = ag.load.file(input_file_path)\n",
    "            ngraph = ag.dump.networkx(graph)\n",
    "\n",
    "            # Call the function to modify the graph\n",
    "            modify_graph(ngraph)\n",
    "            # Call the function to remove support and attack nodes\n",
    "            remove_support_attack_nodes(ngraph)\n",
    "\n",
    "            # Start processing from the root node (claim)\n",
    "            source_node = [node for node in ngraph.nodes() if len(list(ngraph.successors(node))) == 0][0]\n",
    "            final_summary = process_nodes(ngraph, source_node)\n",
    "\n",
    "            # write the concatenated result to a text file in the output folder\n",
    "            output_file_path = os.path.join(output_folder, filename)\n",
    "            with open(output_file_path, 'w', encoding=\"utf8\") as output_file:\n",
    "                output_file.write(final_summary)"
   ]
  },
  {
   "cell_type": "code",
   "execution_count": 10,
   "id": "bed04dbb-9b98-439f-af9f-9863d677794a",
   "metadata": {},
   "outputs": [
    {
     "name": "stdout",
     "output_type": "stream",
     "text": [
      "text_input Alcoholism is a disease because, Alcoholism is defined as a disease by medical associations Propensity for alcoholism can be inherited Symptoms, effects, behaviours and sequelae follow a Pattern and a disease model Only certain people get it and brain changes can be seen. However,It's merely a symptom of some other mental health disease and can not be considered a disease by itself Alcoholism begins with a choice to consume a substance Alcoholism can be stopped without medication or medical treatment Treatment only works when person wants it\n",
      "summary \n",
      "Alcoholism is a disease, as defined by medical associations, with inherited propensity, symptoms following a pattern, and brain changes visible. However, some argue it's a symptom of another mental health condition, not a standalone disease. Alcoholism begins with a choice to consume alcohol, but can be difficult to stop without treatment, which is only effective when the individual wants it.\n",
      "text_input \n",
      "Alcoholism is a disease, as defined by medical associations, with inherited propensity, symptoms following a pattern, and brain changes visible. However, some argue it's a symptom of another mental health condition, not a standalone disease. Alcoholism begins with a choice to consume alcohol, but can be difficult to stop without treatment, which is only effective when the individual wants it.It's merely a symptom of some other mental health disease and can not be considered a disease by itself but, It is not a secondary symptom, but a primary one.\n",
      "summary \n",
      "Alcoholism is a disease with inherited propensity and brain changes, but some argue it's a symptom of another mental health condition. It begins with a choice to consume alcohol, but can be difficult to stop without effective treatment, which requires the individual's willingness. It's not a secondary symptom, but a primary one.\n",
      "text_input \n",
      "Alcoholism is a disease with inherited propensity and brain changes, but some argue it's a symptom of another mental health condition. It begins with a choice to consume alcohol, but can be difficult to stop without effective treatment, which requires the individual's willingness. It's not a secondary symptom, but a primary one.Alcoholism begins with a choice to consume a substance because, Many anonymous alcoholics illustrate how it is their choice to end to consume the substance. This illustrate the 'choice' aspect of alcoholism.. However,Many diseases begin with a choice to engage in high-risk behavior, specifically sexually transmitted disease.\n",
      "summary \n",
      "Alcoholism is a disease with inherited propensity and brain changes, but some argue it's a symptom of another mental health condition. It starts with a choice to consume alcohol, but stopping without effective treatment can be difficult. It's not a secondary symptom, but a primary one.\n",
      "text_input \n",
      "Alcoholism is a disease with inherited propensity and brain changes, but some argue it's a symptom of another mental health condition. It starts with a choice to consume alcohol, but stopping without effective treatment can be difficult. It's not a secondary symptom, but a primary one.Many anonymous alcoholics illustrate how it is their choice to end to consume the substance. This illustrate the 'choice' aspect of alcoholism. but, Many more still are not able to choose in this way, and 'fall off the wagon' any number of times.\n",
      "summary \n",
      "Alcoholism is a disease with inherited propensity and brain changes, but some argue it's a symptom of another mental health condition. It starts with a choice to consume alcohol, but stopping without effective treatment can be difficult. Many anonymous alcoholics choose to end their consumption, illustrating the 'choice' aspect of alcoholism. However, many more struggle to choose and relapse.\n",
      "text_input \n",
      "Alcoholism is a disease with inherited propensity and brain changes, but some argue it's a symptom of another mental health condition. It starts with a choice to consume alcohol, but stopping without effective treatment can be difficult. Many anonymous alcoholics choose to end their consumption, illustrating the 'choice' aspect of alcoholism. However, many more struggle to choose and relapse.Treatment only works when person wants it but, That's because it is a mental health disease. It cannot be healed like a fever or something similar.\n",
      "summary \n",
      "Alcoholism is a disease with inherited propensity and brain changes, but some argue it's a symptom of another mental health condition. While some individuals can choose to stop drinking, many struggle with relapse, highlighting the complex nature of this condition. Effective treatment requires the individual's willingness to seek help, underscoring the mental health aspect of alcoholism.\n"
     ]
    }
   ],
   "source": [
    "# input and output folder paths\n",
    "# input - arg graphs\n",
    "# output - llama2 summaries - using divide and conquer.\n",
    "# Replace the below with desired input and output path\n",
    "\n",
    "#input_folder_path = 'C:/Users/Nila/Documents/Main Scripts_25.12.2023/Jupyter Notebooks/complete testing/llm_input/arg_graphs/'\n",
    "#output_folder_path = 'C:/Users/Nila/Documents/Main Scripts_25.12.2023/Jupyter Notebooks/complete testing/llm_output/BART/divide_conquer'\n",
    "\n",
    "input_folder_path = \"C:/Users/Nila/Documents/Project/benchmark/data/kialo-nilesc/sample-test/input/\"\n",
    "output_folder_path = \"C:/Users/Nila/Documents/Project/benchmark/data/kialo-nilesc/sample-test/output/\"\n",
    "\n",
    "create_llama2_divideconquer_summaries(input_folder_path, output_folder_path)"
   ]
  },
  {
   "cell_type": "code",
   "execution_count": null,
   "id": "2020444b-9ca4-42a9-b0cc-d4d9cd70f260",
   "metadata": {},
   "outputs": [],
   "source": []
  }
 ],
 "metadata": {
  "kernelspec": {
   "display_name": "Python 3 (ipykernel)",
   "language": "python",
   "name": "python3"
  },
  "language_info": {
   "codemirror_mode": {
    "name": "ipython",
    "version": 3
   },
   "file_extension": ".py",
   "mimetype": "text/x-python",
   "name": "python",
   "nbconvert_exporter": "python",
   "pygments_lexer": "ipython3",
   "version": "3.11.6"
  }
 },
 "nbformat": 4,
 "nbformat_minor": 5
}
