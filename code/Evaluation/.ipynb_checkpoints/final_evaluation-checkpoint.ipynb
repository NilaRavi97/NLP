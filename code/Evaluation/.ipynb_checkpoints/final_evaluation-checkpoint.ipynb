{
 "cells": [
  {
   "cell_type": "code",
   "execution_count": 11,
   "id": "69c343a6-82ec-488f-8743-744b28bb7e94",
   "metadata": {},
   "outputs": [],
   "source": [
    "import pandas as pd\n",
    "import matplotlib.pyplot as plt"
   ]
  },
  {
   "cell_type": "code",
   "execution_count": 3,
   "id": "8efb222c-02b5-43f6-a0e2-1e45db8fb81a",
   "metadata": {},
   "outputs": [],
   "source": [
    "# load all the batches\n",
    "\n",
    "b1_df = pd.read_excel('./batch_results/summaries_batch1.xlsx')\n",
    "b2_df = pd.read_excel('./batch_results/summaries_batch2.xlsx')\n",
    "b3_df = pd.read_excel('./batch_results/summaries_batch3.xlsx')\n",
    "b4_df = pd.read_excel('./batch_results/summaries_batch4.xlsx')\n",
    "b5_df = pd.read_excel('./batch_results/summaries_batch5.xlsx')\n",
    "b6_df = pd.read_excel('./batch_results/summaries_batch6.xlsx')"
   ]
  },
  {
   "cell_type": "code",
   "execution_count": 4,
   "id": "16e3870d-ed5d-4fb2-b88b-1bd22ce2190c",
   "metadata": {},
   "outputs": [],
   "source": [
    "concatenated_df = pd.concat([b1_df, b2_df, b3_df, b4_df, b5_df, b6_df])"
   ]
  },
  {
   "cell_type": "code",
   "execution_count": 6,
   "id": "0f571507-63b0-4b63-b416-aebd6117e244",
   "metadata": {},
   "outputs": [
    {
     "data": {
      "text/html": [
       "<div>\n",
       "<style scoped>\n",
       "    .dataframe tbody tr th:only-of-type {\n",
       "        vertical-align: middle;\n",
       "    }\n",
       "\n",
       "    .dataframe tbody tr th {\n",
       "        vertical-align: top;\n",
       "    }\n",
       "\n",
       "    .dataframe thead th {\n",
       "        text-align: right;\n",
       "    }\n",
       "</style>\n",
       "<table border=\"1\" class=\"dataframe\">\n",
       "  <thead>\n",
       "    <tr style=\"text-align: right;\">\n",
       "      <th></th>\n",
       "      <th>Index</th>\n",
       "      <th>ArgGraph</th>\n",
       "      <th>Model 1</th>\n",
       "      <th>Approach 1</th>\n",
       "      <th>Model 2</th>\n",
       "      <th>Approach 2</th>\n",
       "      <th>Question</th>\n",
       "      <th>Summary 1</th>\n",
       "      <th>Summary 2</th>\n",
       "      <th>Source</th>\n",
       "      <th>UserAnswer</th>\n",
       "      <th>ModelOut</th>\n",
       "      <th>ApproachOut</th>\n",
       "    </tr>\n",
       "  </thead>\n",
       "  <tbody>\n",
       "    <tr>\n",
       "      <th>0</th>\n",
       "      <td>1</td>\n",
       "      <td>www.kialo.com/all-us-and-eu-sanctions-imposed-...</td>\n",
       "      <td>BART-CNN</td>\n",
       "      <td>depth_first</td>\n",
       "      <td>LLAMA2</td>\n",
       "      <td>json</td>\n",
       "      <td>Consider the summaries related to the topic \"a...</td>\n",
       "      <td>Sanctions to Russia have cut growth in Europe ...</td>\n",
       "      <td>\\nThe debate revolves around the effectiveness...</td>\n",
       "      <td>Discussion Title: All US and EU sanctions impo...</td>\n",
       "      <td>_x000D_\\nThe debate revolves around the effect...</td>\n",
       "      <td>LLAMA2</td>\n",
       "      <td>json</td>\n",
       "    </tr>\n",
       "    <tr>\n",
       "      <th>1</th>\n",
       "      <td>2</td>\n",
       "      <td>www.kialo.com/are-countries-right-to-dispel-ru...</td>\n",
       "      <td>GPT-4</td>\n",
       "      <td>depth_first</td>\n",
       "      <td>LLAMA2</td>\n",
       "      <td>depth_first</td>\n",
       "      <td>Consider the summaries related to the topic \"a...</td>\n",
       "      <td>Countries expelled Russian diplomats after the...</td>\n",
       "      <td>\\nDebate surrounds expelling Russian diplomats...</td>\n",
       "      <td>Discussion Title: Are Countries Right to Dispe...</td>\n",
       "      <td>_x000D_\\nDebate surrounds expelling Russian di...</td>\n",
       "      <td>LLAMA2</td>\n",
       "      <td>depth_first</td>\n",
       "    </tr>\n",
       "    <tr>\n",
       "      <th>2</th>\n",
       "      <td>3</td>\n",
       "      <td>www.kialo.com/a-permanent-venue-for-the-olympi...</td>\n",
       "      <td>BART-CNN</td>\n",
       "      <td>depth_first</td>\n",
       "      <td>LLAMA2</td>\n",
       "      <td>depth_first</td>\n",
       "      <td>Consider the summaries related to the topic \"a...</td>\n",
       "      <td>The International Olympic Committee (IOC) shou...</td>\n",
       "      <td>\\nThe proposal for a permanent venue for the O...</td>\n",
       "      <td>Discussion Title: A permanent venue for the Ol...</td>\n",
       "      <td>_x000D_\\nThe proposal for a permanent venue fo...</td>\n",
       "      <td>LLAMA2</td>\n",
       "      <td>depth_first</td>\n",
       "    </tr>\n",
       "    <tr>\n",
       "      <th>3</th>\n",
       "      <td>4</td>\n",
       "      <td>www.kialo.com/are-all-our-actions-selfish-to-s...</td>\n",
       "      <td>LLAMA2</td>\n",
       "      <td>depth_first</td>\n",
       "      <td>LLAMA2</td>\n",
       "      <td>divide_conquer</td>\n",
       "      <td>Consider the summaries related to the topic \"a...</td>\n",
       "      <td>\\nHere's a 90-word summary of the debate:\\n\\nI...</td>\n",
       "      <td>\\nPeople can act selflessly and selfishly, wit...</td>\n",
       "      <td>Discussion Title: Are all our actions selfish ...</td>\n",
       "      <td>_x000D_\\nHere's a 90-word summary of the debat...</td>\n",
       "      <td>LLAMA2</td>\n",
       "      <td>divide_conquer</td>\n",
       "    </tr>\n",
       "    <tr>\n",
       "      <th>4</th>\n",
       "      <td>5</td>\n",
       "      <td>www.kialo.com/all-cars-should-be-run-at-high-r...</td>\n",
       "      <td>BART-CNN</td>\n",
       "      <td>divide_conquer</td>\n",
       "      <td>GPT-4</td>\n",
       "      <td>depth_first</td>\n",
       "      <td>Consider the summaries related to the topic \"a...</td>\n",
       "      <td>All cars should be run at very high revs (at t...</td>\n",
       "      <td>To prevent carbon buildup, some advocates reco...</td>\n",
       "      <td>Discussion Title: All cars should be run at hi...</td>\n",
       "      <td>To prevent carbon buildup, some advocates reco...</td>\n",
       "      <td>GPT-4</td>\n",
       "      <td>depth_first</td>\n",
       "    </tr>\n",
       "  </tbody>\n",
       "</table>\n",
       "</div>"
      ],
      "text/plain": [
       "   Index                                           ArgGraph   Model 1  \\\n",
       "0      1  www.kialo.com/all-us-and-eu-sanctions-imposed-...  BART-CNN   \n",
       "1      2  www.kialo.com/are-countries-right-to-dispel-ru...     GPT-4   \n",
       "2      3  www.kialo.com/a-permanent-venue-for-the-olympi...  BART-CNN   \n",
       "3      4  www.kialo.com/are-all-our-actions-selfish-to-s...    LLAMA2   \n",
       "4      5  www.kialo.com/all-cars-should-be-run-at-high-r...  BART-CNN   \n",
       "\n",
       "       Approach 1 Model 2      Approach 2  \\\n",
       "0     depth_first  LLAMA2            json   \n",
       "1     depth_first  LLAMA2     depth_first   \n",
       "2     depth_first  LLAMA2     depth_first   \n",
       "3     depth_first  LLAMA2  divide_conquer   \n",
       "4  divide_conquer   GPT-4     depth_first   \n",
       "\n",
       "                                            Question  \\\n",
       "0  Consider the summaries related to the topic \"a...   \n",
       "1  Consider the summaries related to the topic \"a...   \n",
       "2  Consider the summaries related to the topic \"a...   \n",
       "3  Consider the summaries related to the topic \"a...   \n",
       "4  Consider the summaries related to the topic \"a...   \n",
       "\n",
       "                                           Summary 1  \\\n",
       "0  Sanctions to Russia have cut growth in Europe ...   \n",
       "1  Countries expelled Russian diplomats after the...   \n",
       "2  The International Olympic Committee (IOC) shou...   \n",
       "3  \\nHere's a 90-word summary of the debate:\\n\\nI...   \n",
       "4  All cars should be run at very high revs (at t...   \n",
       "\n",
       "                                           Summary 2  \\\n",
       "0  \\nThe debate revolves around the effectiveness...   \n",
       "1  \\nDebate surrounds expelling Russian diplomats...   \n",
       "2  \\nThe proposal for a permanent venue for the O...   \n",
       "3  \\nPeople can act selflessly and selfishly, wit...   \n",
       "4  To prevent carbon buildup, some advocates reco...   \n",
       "\n",
       "                                              Source  \\\n",
       "0  Discussion Title: All US and EU sanctions impo...   \n",
       "1  Discussion Title: Are Countries Right to Dispe...   \n",
       "2  Discussion Title: A permanent venue for the Ol...   \n",
       "3  Discussion Title: Are all our actions selfish ...   \n",
       "4  Discussion Title: All cars should be run at hi...   \n",
       "\n",
       "                                          UserAnswer ModelOut     ApproachOut  \n",
       "0  _x000D_\\nThe debate revolves around the effect...   LLAMA2            json  \n",
       "1  _x000D_\\nDebate surrounds expelling Russian di...   LLAMA2     depth_first  \n",
       "2  _x000D_\\nThe proposal for a permanent venue fo...   LLAMA2     depth_first  \n",
       "3  _x000D_\\nHere's a 90-word summary of the debat...   LLAMA2  divide_conquer  \n",
       "4  To prevent carbon buildup, some advocates reco...    GPT-4     depth_first  "
      ]
     },
     "execution_count": 6,
     "metadata": {},
     "output_type": "execute_result"
    }
   ],
   "source": [
    "concatenated_df.head() "
   ]
  },
  {
   "cell_type": "code",
   "execution_count": 7,
   "id": "c6c68917-3f86-45d7-8385-8c5225f26463",
   "metadata": {},
   "outputs": [
    {
     "data": {
      "text/plain": [
       "1400"
      ]
     },
     "execution_count": 7,
     "metadata": {},
     "output_type": "execute_result"
    }
   ],
   "source": [
    "len(concatenated_df)"
   ]
  },
  {
   "cell_type": "code",
   "execution_count": 9,
   "id": "1b5982c5-7b8f-47e7-a1dc-e25e9095d9f2",
   "metadata": {},
   "outputs": [],
   "source": [
    "## check for gpt-4 results\n",
    "\n",
    "gpt_4_records = concatenated_df[(concatenated_df['Model 1'] == 'GPT-4') & (concatenated_df['Model 2'] == 'GPT-4')]"
   ]
  },
  {
   "cell_type": "code",
   "execution_count": 12,
   "id": "69b39446-283a-4e1b-b175-6246e6511701",
   "metadata": {},
   "outputs": [
    {
     "ename": "TypeError",
     "evalue": "bar() missing 1 required positional argument: 'height'",
     "output_type": "error",
     "traceback": [
      "\u001b[1;31m---------------------------------------------------------------------------\u001b[0m",
      "\u001b[1;31mTypeError\u001b[0m                                 Traceback (most recent call last)",
      "Cell \u001b[1;32mIn[12], line 1\u001b[0m\n\u001b[1;32m----> 1\u001b[0m \u001b[43mplt\u001b[49m\u001b[38;5;241;43m.\u001b[39;49m\u001b[43mbar\u001b[49m\u001b[43m(\u001b[49m\u001b[43mgpt_4_records\u001b[49m\u001b[43m[\u001b[49m\u001b[38;5;124;43m'\u001b[39;49m\u001b[38;5;124;43mApproachOut\u001b[39;49m\u001b[38;5;124;43m'\u001b[39;49m\u001b[43m]\u001b[49m\u001b[43m)\u001b[49m\n",
      "\u001b[1;31mTypeError\u001b[0m: bar() missing 1 required positional argument: 'height'"
     ]
    }
   ],
   "source": [
    "plt.bar(gpt_4_records['ApproachOut'])"
   ]
  },
  {
   "cell_type": "code",
   "execution_count": null,
   "id": "f2e042e8-c214-4484-b6dc-c0a19a2c451b",
   "metadata": {},
   "outputs": [],
   "source": []
  }
 ],
 "metadata": {
  "kernelspec": {
   "display_name": "Python 3 (ipykernel)",
   "language": "python",
   "name": "python3"
  },
  "language_info": {
   "codemirror_mode": {
    "name": "ipython",
    "version": 3
   },
   "file_extension": ".py",
   "mimetype": "text/x-python",
   "name": "python",
   "nbconvert_exporter": "python",
   "pygments_lexer": "ipython3",
   "version": "3.11.6"
  }
 },
 "nbformat": 4,
 "nbformat_minor": 5
}
