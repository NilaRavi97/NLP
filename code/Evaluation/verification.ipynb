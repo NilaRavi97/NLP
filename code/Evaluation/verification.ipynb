{
 "cells": [
  {
   "cell_type": "code",
   "execution_count": 2,
   "id": "51db7bf3-55e7-4c50-bf95-44d6e91eb51d",
   "metadata": {},
   "outputs": [
    {
     "data": {
      "text/html": [
       "<div>\n",
       "<style scoped>\n",
       "    .dataframe tbody tr th:only-of-type {\n",
       "        vertical-align: middle;\n",
       "    }\n",
       "\n",
       "    .dataframe tbody tr th {\n",
       "        vertical-align: top;\n",
       "    }\n",
       "\n",
       "    .dataframe thead th {\n",
       "        text-align: right;\n",
       "    }\n",
       "</style>\n",
       "<table border=\"1\" class=\"dataframe\">\n",
       "  <thead>\n",
       "    <tr style=\"text-align: right;\">\n",
       "      <th></th>\n",
       "      <th>ArgGraph</th>\n",
       "      <th>Model 1</th>\n",
       "      <th>Approach 1</th>\n",
       "      <th>Model 2</th>\n",
       "      <th>Approach 2</th>\n",
       "      <th>Question</th>\n",
       "      <th>Summary 1</th>\n",
       "      <th>Summary 2</th>\n",
       "      <th>Source</th>\n",
       "    </tr>\n",
       "  </thead>\n",
       "  <tbody>\n",
       "    <tr>\n",
       "      <th>0</th>\n",
       "      <td>www.kialo.com/3d-printer-and-guns-should-bluep...</td>\n",
       "      <td>BART-CNN</td>\n",
       "      <td>depth_first</td>\n",
       "      <td>BART-CNN</td>\n",
       "      <td>divide_conquer</td>\n",
       "      <td>Consider the summaries related to the topic \"3...</td>\n",
       "      <td>The opposition to 3D guns is based on the exis...</td>\n",
       "      <td>A computer with CAD software, an inexpensive 3...</td>\n",
       "      <td>Discussion Title: 3D Printer and Guns: Should ...</td>\n",
       "    </tr>\n",
       "    <tr>\n",
       "      <th>1</th>\n",
       "      <td>www.kialo.com/3d-printer-and-guns-should-bluep...</td>\n",
       "      <td>BART-CNN</td>\n",
       "      <td>depth_first</td>\n",
       "      <td>GPT-4</td>\n",
       "      <td>depth_first</td>\n",
       "      <td>Consider the summaries related to the topic \"3...</td>\n",
       "      <td>The opposition to 3D guns is based on the exis...</td>\n",
       "      <td>In a debate on banning 3D-printed gun blueprin...</td>\n",
       "      <td>Discussion Title: 3D Printer and Guns: Should ...</td>\n",
       "    </tr>\n",
       "  </tbody>\n",
       "</table>\n",
       "</div>"
      ],
      "text/plain": [
       "                                            ArgGraph   Model 1   Approach 1  \\\n",
       "0  www.kialo.com/3d-printer-and-guns-should-bluep...  BART-CNN  depth_first   \n",
       "1  www.kialo.com/3d-printer-and-guns-should-bluep...  BART-CNN  depth_first   \n",
       "\n",
       "    Model 2      Approach 2  \\\n",
       "0  BART-CNN  divide_conquer   \n",
       "1     GPT-4     depth_first   \n",
       "\n",
       "                                            Question  \\\n",
       "0  Consider the summaries related to the topic \"3...   \n",
       "1  Consider the summaries related to the topic \"3...   \n",
       "\n",
       "                                           Summary 1  \\\n",
       "0  The opposition to 3D guns is based on the exis...   \n",
       "1  The opposition to 3D guns is based on the exis...   \n",
       "\n",
       "                                           Summary 2  \\\n",
       "0  A computer with CAD software, an inexpensive 3...   \n",
       "1  In a debate on banning 3D-printed gun blueprin...   \n",
       "\n",
       "                                              Source  \n",
       "0  Discussion Title: 3D Printer and Guns: Should ...  \n",
       "1  Discussion Title: 3D Printer and Guns: Should ...  "
      ]
     },
     "execution_count": 2,
     "metadata": {},
     "output_type": "execute_result"
    }
   ],
   "source": [
    "import pandas as pd\n",
    "df = pd.read_excel('all_questions_8feb16.xlsx')\n",
    "df.head(2)"
   ]
  },
  {
   "cell_type": "code",
   "execution_count": 7,
   "id": "537a01f5-a5a3-4e93-af86-07b3f5b83416",
   "metadata": {},
   "outputs": [
    {
     "name": "stdout",
     "output_type": "stream",
     "text": [
      "{'BART-CNN': 650, 'GPT-4': 600, 'LLAMA2': 150}\n"
     ]
    }
   ],
   "source": [
    "list = {}\n",
    "for n in df['Model 1']:\n",
    "    if n in list:\n",
    "        list[n]+=1\n",
    "    else:\n",
    "        list[n]=1\n",
    "\n",
    "print(list)\n",
    "    "
   ]
  },
  {
   "cell_type": "code",
   "execution_count": 8,
   "id": "c2bcb7c9-7464-4de2-a5f9-2ef9f83eb04d",
   "metadata": {},
   "outputs": [
    {
     "data": {
      "text/plain": [
       "Model 1\n",
       "BART-CNN    650\n",
       "GPT-4       600\n",
       "LLAMA2      150\n",
       "Name: count, dtype: int64"
      ]
     },
     "execution_count": 8,
     "metadata": {},
     "output_type": "execute_result"
    }
   ],
   "source": [
    "df['Model 1'].value_counts()"
   ]
  },
  {
   "cell_type": "code",
   "execution_count": 9,
   "id": "49a169d3-8a11-4a7b-b2a3-6034de27d733",
   "metadata": {},
   "outputs": [
    {
     "data": {
      "text/plain": [
       "Model 2\n",
       "LLAMA2      900\n",
       "GPT-4       450\n",
       "BART-CNN     50\n",
       "Name: count, dtype: int64"
      ]
     },
     "execution_count": 9,
     "metadata": {},
     "output_type": "execute_result"
    }
   ],
   "source": [
    "df['Model 2'].value_counts()"
   ]
  },
  {
   "cell_type": "code",
   "execution_count": 12,
   "id": "eca9ed49-8cbe-462d-90b1-e60a390763d9",
   "metadata": {},
   "outputs": [
    {
     "data": {
      "text/plain": [
       "Approach 1\n",
       "depth_first       700\n",
       "divide_conquer    550\n",
       "json              150\n",
       "Name: count, dtype: int64"
      ]
     },
     "execution_count": 12,
     "metadata": {},
     "output_type": "execute_result"
    }
   ],
   "source": [
    "df['Approach 1'].value_counts()"
   ]
  },
  {
   "cell_type": "code",
   "execution_count": 13,
   "id": "9abf3a37-d15f-4f99-958e-cc1c385eee76",
   "metadata": {},
   "outputs": [
    {
     "data": {
      "text/plain": [
       "Approach 2\n",
       "json              550\n",
       "divide_conquer    500\n",
       "depth_first       350\n",
       "Name: count, dtype: int64"
      ]
     },
     "execution_count": 13,
     "metadata": {},
     "output_type": "execute_result"
    }
   ],
   "source": [
    "df['Approach 2'].value_counts()"
   ]
  },
  {
   "cell_type": "code",
   "execution_count": 15,
   "id": "e34ac419-3947-456a-aee4-18d9901709fc",
   "metadata": {},
   "outputs": [
    {
     "data": {
      "text/html": [
       "<div>\n",
       "<style scoped>\n",
       "    .dataframe tbody tr th:only-of-type {\n",
       "        vertical-align: middle;\n",
       "    }\n",
       "\n",
       "    .dataframe tbody tr th {\n",
       "        vertical-align: top;\n",
       "    }\n",
       "\n",
       "    .dataframe thead th {\n",
       "        text-align: right;\n",
       "    }\n",
       "</style>\n",
       "<table border=\"1\" class=\"dataframe\">\n",
       "  <thead>\n",
       "    <tr style=\"text-align: right;\">\n",
       "      <th></th>\n",
       "      <th>Index</th>\n",
       "      <th>ArgGraph</th>\n",
       "      <th>Model 1</th>\n",
       "      <th>Approach 1</th>\n",
       "      <th>Model 2</th>\n",
       "      <th>Approach 2</th>\n",
       "      <th>Question</th>\n",
       "      <th>Summary 1</th>\n",
       "      <th>Summary 2</th>\n",
       "      <th>Source</th>\n",
       "      <th>UserAnswer</th>\n",
       "      <th>ModelOut</th>\n",
       "      <th>ApproachOut</th>\n",
       "    </tr>\n",
       "  </thead>\n",
       "  <tbody>\n",
       "    <tr>\n",
       "      <th>0</th>\n",
       "      <td>1</td>\n",
       "      <td>www.kialo.com/all-us-and-eu-sanctions-imposed-...</td>\n",
       "      <td>BART-CNN</td>\n",
       "      <td>depth_first</td>\n",
       "      <td>LLAMA2</td>\n",
       "      <td>json</td>\n",
       "      <td>Consider the summaries related to the topic \"a...</td>\n",
       "      <td>Sanctions to Russia have cut growth in Europe ...</td>\n",
       "      <td>\\nThe debate revolves around the effectiveness...</td>\n",
       "      <td>Discussion Title: All US and EU sanctions impo...</td>\n",
       "      <td>NaN</td>\n",
       "      <td>NaN</td>\n",
       "      <td>NaN</td>\n",
       "    </tr>\n",
       "    <tr>\n",
       "      <th>1</th>\n",
       "      <td>2</td>\n",
       "      <td>www.kialo.com/are-countries-right-to-dispel-ru...</td>\n",
       "      <td>GPT-4</td>\n",
       "      <td>depth_first</td>\n",
       "      <td>LLAMA2</td>\n",
       "      <td>depth_first</td>\n",
       "      <td>Consider the summaries related to the topic \"a...</td>\n",
       "      <td>Countries expelled Russian diplomats after the...</td>\n",
       "      <td>\\nDebate surrounds expelling Russian diplomats...</td>\n",
       "      <td>Discussion Title: Are Countries Right to Dispe...</td>\n",
       "      <td>NaN</td>\n",
       "      <td>NaN</td>\n",
       "      <td>NaN</td>\n",
       "    </tr>\n",
       "  </tbody>\n",
       "</table>\n",
       "</div>"
      ],
      "text/plain": [
       "   Index                                           ArgGraph   Model 1  \\\n",
       "0      1  www.kialo.com/all-us-and-eu-sanctions-imposed-...  BART-CNN   \n",
       "1      2  www.kialo.com/are-countries-right-to-dispel-ru...     GPT-4   \n",
       "\n",
       "    Approach 1 Model 2   Approach 2  \\\n",
       "0  depth_first  LLAMA2         json   \n",
       "1  depth_first  LLAMA2  depth_first   \n",
       "\n",
       "                                            Question  \\\n",
       "0  Consider the summaries related to the topic \"a...   \n",
       "1  Consider the summaries related to the topic \"a...   \n",
       "\n",
       "                                           Summary 1  \\\n",
       "0  Sanctions to Russia have cut growth in Europe ...   \n",
       "1  Countries expelled Russian diplomats after the...   \n",
       "\n",
       "                                           Summary 2  \\\n",
       "0  \\nThe debate revolves around the effectiveness...   \n",
       "1  \\nDebate surrounds expelling Russian diplomats...   \n",
       "\n",
       "                                              Source  UserAnswer  ModelOut  \\\n",
       "0  Discussion Title: All US and EU sanctions impo...         NaN       NaN   \n",
       "1  Discussion Title: Are Countries Right to Dispe...         NaN       NaN   \n",
       "\n",
       "   ApproachOut  \n",
       "0          NaN  \n",
       "1          NaN  "
      ]
     },
     "execution_count": 15,
     "metadata": {},
     "output_type": "execute_result"
    }
   ],
   "source": [
    "s_df = pd.read_excel('shuffled_file_8feb16.xlsx')\n",
    "s_df.head(2)"
   ]
  },
  {
   "cell_type": "code",
   "execution_count": 17,
   "id": "c0bf84f8-9460-43da-bf63-ac23f41990cf",
   "metadata": {},
   "outputs": [
    {
     "data": {
      "text/plain": [
       "Model 1\n",
       "BART-CNN    650\n",
       "GPT-4       600\n",
       "LLAMA2      150\n",
       "Name: count, dtype: int64"
      ]
     },
     "execution_count": 17,
     "metadata": {},
     "output_type": "execute_result"
    }
   ],
   "source": [
    "s_df['Model 1'].value_counts()"
   ]
  },
  {
   "cell_type": "code",
   "execution_count": 22,
   "id": "78d29a72-2806-4998-b1f6-3edcb02c4b2c",
   "metadata": {},
   "outputs": [],
   "source": [
    "b1_df = pd.read_excel('./batches/summaries_batch1.xlsx')\n",
    "b2_df = pd.read_excel('./batches/summaries_batch2.xlsx')\n",
    "b3_df = pd.read_excel('./batches/summaries_batch3.xlsx')\n",
    "b4_df = pd.read_excel('./batches/summaries_batch4.xlsx')\n",
    "b5_df = pd.read_excel('./batches/summaries_batch5.xlsx')\n",
    "b6_df = pd.read_excel('./batches/summaries_batch6.xlsx')        \n",
    "concatenated_df = pd.concat([b1_df, b2_df, b3_df, b4_df, b5_df, b6_df], axis=0)"
   ]
  },
  {
   "cell_type": "code",
   "execution_count": 23,
   "id": "13bc05c4-7159-4af0-b922-06c93cd40a39",
   "metadata": {},
   "outputs": [
    {
     "data": {
      "text/html": [
       "<div>\n",
       "<style scoped>\n",
       "    .dataframe tbody tr th:only-of-type {\n",
       "        vertical-align: middle;\n",
       "    }\n",
       "\n",
       "    .dataframe tbody tr th {\n",
       "        vertical-align: top;\n",
       "    }\n",
       "\n",
       "    .dataframe thead th {\n",
       "        text-align: right;\n",
       "    }\n",
       "</style>\n",
       "<table border=\"1\" class=\"dataframe\">\n",
       "  <thead>\n",
       "    <tr style=\"text-align: right;\">\n",
       "      <th></th>\n",
       "      <th>Index</th>\n",
       "      <th>ArgGraph</th>\n",
       "      <th>Model 1</th>\n",
       "      <th>Approach 1</th>\n",
       "      <th>Model 2</th>\n",
       "      <th>Approach 2</th>\n",
       "      <th>Question</th>\n",
       "      <th>Summary 1</th>\n",
       "      <th>Summary 2</th>\n",
       "      <th>Source</th>\n",
       "      <th>UserAnswer</th>\n",
       "      <th>ModelOut</th>\n",
       "      <th>ApproachOut</th>\n",
       "    </tr>\n",
       "  </thead>\n",
       "  <tbody>\n",
       "    <tr>\n",
       "      <th>0</th>\n",
       "      <td>1</td>\n",
       "      <td>www.kialo.com/all-us-and-eu-sanctions-imposed-...</td>\n",
       "      <td>BART-CNN</td>\n",
       "      <td>depth_first</td>\n",
       "      <td>LLAMA2</td>\n",
       "      <td>json</td>\n",
       "      <td>Consider the summaries related to the topic \"a...</td>\n",
       "      <td>Sanctions to Russia have cut growth in Europe ...</td>\n",
       "      <td>\\nThe debate revolves around the effectiveness...</td>\n",
       "      <td>Discussion Title: All US and EU sanctions impo...</td>\n",
       "      <td>NaN</td>\n",
       "      <td>NaN</td>\n",
       "      <td>NaN</td>\n",
       "    </tr>\n",
       "    <tr>\n",
       "      <th>1</th>\n",
       "      <td>2</td>\n",
       "      <td>www.kialo.com/are-countries-right-to-dispel-ru...</td>\n",
       "      <td>GPT-4</td>\n",
       "      <td>depth_first</td>\n",
       "      <td>LLAMA2</td>\n",
       "      <td>depth_first</td>\n",
       "      <td>Consider the summaries related to the topic \"a...</td>\n",
       "      <td>Countries expelled Russian diplomats after the...</td>\n",
       "      <td>\\nDebate surrounds expelling Russian diplomats...</td>\n",
       "      <td>Discussion Title: Are Countries Right to Dispe...</td>\n",
       "      <td>NaN</td>\n",
       "      <td>NaN</td>\n",
       "      <td>NaN</td>\n",
       "    </tr>\n",
       "  </tbody>\n",
       "</table>\n",
       "</div>"
      ],
      "text/plain": [
       "   Index                                           ArgGraph   Model 1  \\\n",
       "0      1  www.kialo.com/all-us-and-eu-sanctions-imposed-...  BART-CNN   \n",
       "1      2  www.kialo.com/are-countries-right-to-dispel-ru...     GPT-4   \n",
       "\n",
       "    Approach 1 Model 2   Approach 2  \\\n",
       "0  depth_first  LLAMA2         json   \n",
       "1  depth_first  LLAMA2  depth_first   \n",
       "\n",
       "                                            Question  \\\n",
       "0  Consider the summaries related to the topic \"a...   \n",
       "1  Consider the summaries related to the topic \"a...   \n",
       "\n",
       "                                           Summary 1  \\\n",
       "0  Sanctions to Russia have cut growth in Europe ...   \n",
       "1  Countries expelled Russian diplomats after the...   \n",
       "\n",
       "                                           Summary 2  \\\n",
       "0  \\nThe debate revolves around the effectiveness...   \n",
       "1  \\nDebate surrounds expelling Russian diplomats...   \n",
       "\n",
       "                                              Source  UserAnswer  ModelOut  \\\n",
       "0  Discussion Title: All US and EU sanctions impo...         NaN       NaN   \n",
       "1  Discussion Title: Are Countries Right to Dispe...         NaN       NaN   \n",
       "\n",
       "   ApproachOut  \n",
       "0          NaN  \n",
       "1          NaN  "
      ]
     },
     "execution_count": 23,
     "metadata": {},
     "output_type": "execute_result"
    }
   ],
   "source": [
    "concatenated_df.head(2)"
   ]
  },
  {
   "cell_type": "code",
   "execution_count": 24,
   "id": "c5cdc919-e7f9-45bd-8909-85e6a57da41a",
   "metadata": {},
   "outputs": [
    {
     "data": {
      "text/plain": [
       "Model 1\n",
       "BART-CNN    650\n",
       "GPT-4       600\n",
       "LLAMA2      150\n",
       "Name: count, dtype: int64"
      ]
     },
     "execution_count": 24,
     "metadata": {},
     "output_type": "execute_result"
    }
   ],
   "source": [
    "concatenated_df['Model 1'].value_counts()"
   ]
  },
  {
   "cell_type": "code",
   "execution_count": 25,
   "id": "d4f49356-cdfb-41f2-b9fd-3a159aafd7f2",
   "metadata": {},
   "outputs": [
    {
     "data": {
      "text/plain": [
       "Model 2\n",
       "LLAMA2      900\n",
       "GPT-4       450\n",
       "BART-CNN     50\n",
       "Name: count, dtype: int64"
      ]
     },
     "execution_count": 25,
     "metadata": {},
     "output_type": "execute_result"
    }
   ],
   "source": [
    "concatenated_df['Model 2'].value_counts()"
   ]
  },
  {
   "cell_type": "code",
   "execution_count": 26,
   "id": "25ff36fd-bd45-41fd-b9a4-d2dae6df4a04",
   "metadata": {},
   "outputs": [
    {
     "data": {
      "text/plain": [
       "Approach 1\n",
       "depth_first       700\n",
       "divide_conquer    550\n",
       "json              150\n",
       "Name: count, dtype: int64"
      ]
     },
     "execution_count": 26,
     "metadata": {},
     "output_type": "execute_result"
    }
   ],
   "source": [
    "concatenated_df['Approach 1'].value_counts()"
   ]
  },
  {
   "cell_type": "code",
   "execution_count": 27,
   "id": "bd5d55f7-f905-4621-b529-42d044229377",
   "metadata": {},
   "outputs": [
    {
     "data": {
      "text/plain": [
       "Approach 2\n",
       "json              550\n",
       "divide_conquer    500\n",
       "depth_first       350\n",
       "Name: count, dtype: int64"
      ]
     },
     "execution_count": 27,
     "metadata": {},
     "output_type": "execute_result"
    }
   ],
   "source": [
    "concatenated_df['Approach 2'].value_counts()"
   ]
  },
  {
   "cell_type": "code",
   "execution_count": null,
   "id": "47a2f234-a244-46a4-9474-9b168645a986",
   "metadata": {},
   "outputs": [],
   "source": []
  }
 ],
 "metadata": {
  "kernelspec": {
   "display_name": "Python 3 (ipykernel)",
   "language": "python",
   "name": "python3"
  },
  "language_info": {
   "codemirror_mode": {
    "name": "ipython",
    "version": 3
   },
   "file_extension": ".py",
   "mimetype": "text/x-python",
   "name": "python",
   "nbconvert_exporter": "python",
   "pygments_lexer": "ipython3",
   "version": "3.11.6"
  }
 },
 "nbformat": 4,
 "nbformat_minor": 5
}
