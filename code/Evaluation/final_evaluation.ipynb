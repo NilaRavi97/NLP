{
 "cells": [
  {
   "cell_type": "code",
   "execution_count": 11,
   "id": "69c343a6-82ec-488f-8743-744b28bb7e94",
   "metadata": {},
   "outputs": [],
   "source": [
    "import pandas as pd\n",
    "import matplotlib.pyplot as plt"
   ]
  },
  {
   "cell_type": "code",
   "execution_count": 3,
   "id": "8efb222c-02b5-43f6-a0e2-1e45db8fb81a",
   "metadata": {},
   "outputs": [],
   "source": [
    "# load all the batches\n",
    "\n",
    "b1_df = pd.read_excel('./batch_results/summaries_batch1.xlsx')\n",
    "b2_df = pd.read_excel('./batch_results/summaries_batch2.xlsx')\n",
    "b3_df = pd.read_excel('./batch_results/summaries_batch3.xlsx')\n",
    "b4_df = pd.read_excel('./batch_results/summaries_batch4.xlsx')\n",
    "b5_df = pd.read_excel('./batch_results/summaries_batch5.xlsx')\n",
    "b6_df = pd.read_excel('./batch_results/summaries_batch6.xlsx')"
   ]
  },
  {
   "cell_type": "code",
   "execution_count": 4,
   "id": "16e3870d-ed5d-4fb2-b88b-1bd22ce2190c",
   "metadata": {},
   "outputs": [],
   "source": [
    "concatenated_df = pd.concat([b1_df, b2_df, b3_df, b4_df, b5_df, b6_df])"
   ]
  },
  {
   "cell_type": "code",
   "execution_count": 6,
   "id": "0f571507-63b0-4b63-b416-aebd6117e244",
   "metadata": {},
   "outputs": [
    {
     "data": {
      "text/html": [
       "<div>\n",
       "<style scoped>\n",
       "    .dataframe tbody tr th:only-of-type {\n",
       "        vertical-align: middle;\n",
       "    }\n",
       "\n",
       "    .dataframe tbody tr th {\n",
       "        vertical-align: top;\n",
       "    }\n",
       "\n",
       "    .dataframe thead th {\n",
       "        text-align: right;\n",
       "    }\n",
       "</style>\n",
       "<table border=\"1\" class=\"dataframe\">\n",
       "  <thead>\n",
       "    <tr style=\"text-align: right;\">\n",
       "      <th></th>\n",
       "      <th>Index</th>\n",
       "      <th>ArgGraph</th>\n",
       "      <th>Model 1</th>\n",
       "      <th>Approach 1</th>\n",
       "      <th>Model 2</th>\n",
       "      <th>Approach 2</th>\n",
       "      <th>Question</th>\n",
       "      <th>Summary 1</th>\n",
       "      <th>Summary 2</th>\n",
       "      <th>Source</th>\n",
       "      <th>UserAnswer</th>\n",
       "      <th>ModelOut</th>\n",
       "      <th>ApproachOut</th>\n",
       "    </tr>\n",
       "  </thead>\n",
       "  <tbody>\n",
       "    <tr>\n",
       "      <th>0</th>\n",
       "      <td>1</td>\n",
       "      <td>www.kialo.com/all-us-and-eu-sanctions-imposed-...</td>\n",
       "      <td>BART-CNN</td>\n",
       "      <td>depth_first</td>\n",
       "      <td>LLAMA2</td>\n",
       "      <td>json</td>\n",
       "      <td>Consider the summaries related to the topic \"a...</td>\n",
       "      <td>Sanctions to Russia have cut growth in Europe ...</td>\n",
       "      <td>\\nThe debate revolves around the effectiveness...</td>\n",
       "      <td>Discussion Title: All US and EU sanctions impo...</td>\n",
       "      <td>_x000D_\\nThe debate revolves around the effect...</td>\n",
       "      <td>LLAMA2</td>\n",
       "      <td>json</td>\n",
       "    </tr>\n",
       "    <tr>\n",
       "      <th>1</th>\n",
       "      <td>2</td>\n",
       "      <td>www.kialo.com/are-countries-right-to-dispel-ru...</td>\n",
       "      <td>GPT-4</td>\n",
       "      <td>depth_first</td>\n",
       "      <td>LLAMA2</td>\n",
       "      <td>depth_first</td>\n",
       "      <td>Consider the summaries related to the topic \"a...</td>\n",
       "      <td>Countries expelled Russian diplomats after the...</td>\n",
       "      <td>\\nDebate surrounds expelling Russian diplomats...</td>\n",
       "      <td>Discussion Title: Are Countries Right to Dispe...</td>\n",
       "      <td>_x000D_\\nDebate surrounds expelling Russian di...</td>\n",
       "      <td>LLAMA2</td>\n",
       "      <td>depth_first</td>\n",
       "    </tr>\n",
       "    <tr>\n",
       "      <th>2</th>\n",
       "      <td>3</td>\n",
       "      <td>www.kialo.com/a-permanent-venue-for-the-olympi...</td>\n",
       "      <td>BART-CNN</td>\n",
       "      <td>depth_first</td>\n",
       "      <td>LLAMA2</td>\n",
       "      <td>depth_first</td>\n",
       "      <td>Consider the summaries related to the topic \"a...</td>\n",
       "      <td>The International Olympic Committee (IOC) shou...</td>\n",
       "      <td>\\nThe proposal for a permanent venue for the O...</td>\n",
       "      <td>Discussion Title: A permanent venue for the Ol...</td>\n",
       "      <td>_x000D_\\nThe proposal for a permanent venue fo...</td>\n",
       "      <td>LLAMA2</td>\n",
       "      <td>depth_first</td>\n",
       "    </tr>\n",
       "    <tr>\n",
       "      <th>3</th>\n",
       "      <td>4</td>\n",
       "      <td>www.kialo.com/are-all-our-actions-selfish-to-s...</td>\n",
       "      <td>LLAMA2</td>\n",
       "      <td>depth_first</td>\n",
       "      <td>LLAMA2</td>\n",
       "      <td>divide_conquer</td>\n",
       "      <td>Consider the summaries related to the topic \"a...</td>\n",
       "      <td>\\nHere's a 90-word summary of the debate:\\n\\nI...</td>\n",
       "      <td>\\nPeople can act selflessly and selfishly, wit...</td>\n",
       "      <td>Discussion Title: Are all our actions selfish ...</td>\n",
       "      <td>_x000D_\\nHere's a 90-word summary of the debat...</td>\n",
       "      <td>LLAMA2</td>\n",
       "      <td>divide_conquer</td>\n",
       "    </tr>\n",
       "    <tr>\n",
       "      <th>4</th>\n",
       "      <td>5</td>\n",
       "      <td>www.kialo.com/all-cars-should-be-run-at-high-r...</td>\n",
       "      <td>BART-CNN</td>\n",
       "      <td>divide_conquer</td>\n",
       "      <td>GPT-4</td>\n",
       "      <td>depth_first</td>\n",
       "      <td>Consider the summaries related to the topic \"a...</td>\n",
       "      <td>All cars should be run at very high revs (at t...</td>\n",
       "      <td>To prevent carbon buildup, some advocates reco...</td>\n",
       "      <td>Discussion Title: All cars should be run at hi...</td>\n",
       "      <td>To prevent carbon buildup, some advocates reco...</td>\n",
       "      <td>GPT-4</td>\n",
       "      <td>depth_first</td>\n",
       "    </tr>\n",
       "  </tbody>\n",
       "</table>\n",
       "</div>"
      ],
      "text/plain": [
       "   Index                                           ArgGraph   Model 1  \\\n",
       "0      1  www.kialo.com/all-us-and-eu-sanctions-imposed-...  BART-CNN   \n",
       "1      2  www.kialo.com/are-countries-right-to-dispel-ru...     GPT-4   \n",
       "2      3  www.kialo.com/a-permanent-venue-for-the-olympi...  BART-CNN   \n",
       "3      4  www.kialo.com/are-all-our-actions-selfish-to-s...    LLAMA2   \n",
       "4      5  www.kialo.com/all-cars-should-be-run-at-high-r...  BART-CNN   \n",
       "\n",
       "       Approach 1 Model 2      Approach 2  \\\n",
       "0     depth_first  LLAMA2            json   \n",
       "1     depth_first  LLAMA2     depth_first   \n",
       "2     depth_first  LLAMA2     depth_first   \n",
       "3     depth_first  LLAMA2  divide_conquer   \n",
       "4  divide_conquer   GPT-4     depth_first   \n",
       "\n",
       "                                            Question  \\\n",
       "0  Consider the summaries related to the topic \"a...   \n",
       "1  Consider the summaries related to the topic \"a...   \n",
       "2  Consider the summaries related to the topic \"a...   \n",
       "3  Consider the summaries related to the topic \"a...   \n",
       "4  Consider the summaries related to the topic \"a...   \n",
       "\n",
       "                                           Summary 1  \\\n",
       "0  Sanctions to Russia have cut growth in Europe ...   \n",
       "1  Countries expelled Russian diplomats after the...   \n",
       "2  The International Olympic Committee (IOC) shou...   \n",
       "3  \\nHere's a 90-word summary of the debate:\\n\\nI...   \n",
       "4  All cars should be run at very high revs (at t...   \n",
       "\n",
       "                                           Summary 2  \\\n",
       "0  \\nThe debate revolves around the effectiveness...   \n",
       "1  \\nDebate surrounds expelling Russian diplomats...   \n",
       "2  \\nThe proposal for a permanent venue for the O...   \n",
       "3  \\nPeople can act selflessly and selfishly, wit...   \n",
       "4  To prevent carbon buildup, some advocates reco...   \n",
       "\n",
       "                                              Source  \\\n",
       "0  Discussion Title: All US and EU sanctions impo...   \n",
       "1  Discussion Title: Are Countries Right to Dispe...   \n",
       "2  Discussion Title: A permanent venue for the Ol...   \n",
       "3  Discussion Title: Are all our actions selfish ...   \n",
       "4  Discussion Title: All cars should be run at hi...   \n",
       "\n",
       "                                          UserAnswer ModelOut     ApproachOut  \n",
       "0  _x000D_\\nThe debate revolves around the effect...   LLAMA2            json  \n",
       "1  _x000D_\\nDebate surrounds expelling Russian di...   LLAMA2     depth_first  \n",
       "2  _x000D_\\nThe proposal for a permanent venue fo...   LLAMA2     depth_first  \n",
       "3  _x000D_\\nHere's a 90-word summary of the debat...   LLAMA2  divide_conquer  \n",
       "4  To prevent carbon buildup, some advocates reco...    GPT-4     depth_first  "
      ]
     },
     "execution_count": 6,
     "metadata": {},
     "output_type": "execute_result"
    }
   ],
   "source": [
    "concatenated_df.head() "
   ]
  },
  {
   "cell_type": "code",
   "execution_count": 7,
   "id": "c6c68917-3f86-45d7-8385-8c5225f26463",
   "metadata": {},
   "outputs": [
    {
     "data": {
      "text/plain": [
       "1400"
      ]
     },
     "execution_count": 7,
     "metadata": {},
     "output_type": "execute_result"
    }
   ],
   "source": [
    "len(concatenated_df)"
   ]
  },
  {
   "cell_type": "code",
   "execution_count": 28,
   "id": "1b5982c5-7b8f-47e7-a1dc-e25e9095d9f2",
   "metadata": {},
   "outputs": [],
   "source": [
    "## check for gpt-4 results\n",
    "\n",
    "gpt_4_records = concatenated_df[(concatenated_df['Model 1'] == 'GPT-4') & (concatenated_df['Model 2'] == 'GPT-4')]"
   ]
  },
  {
   "cell_type": "code",
   "execution_count": 14,
   "id": "a453580c-427f-453b-bd17-dd44494e533e",
   "metadata": {},
   "outputs": [
    {
     "data": {
      "text/plain": [
       "ApproachOut\n",
       "json              58\n",
       "depth_first       49\n",
       "divide_conquer    43\n",
       "Name: count, dtype: int64"
      ]
     },
     "execution_count": 14,
     "metadata": {},
     "output_type": "execute_result"
    }
   ],
   "source": [
    "gpt_4_records['ApproachOut'].value_counts()"
   ]
  },
  {
   "cell_type": "code",
   "execution_count": 16,
   "id": "69b39446-283a-4e1b-b175-6246e6511701",
   "metadata": {},
   "outputs": [
    {
     "data": {
      "text/plain": [
       "<Axes: xlabel='ApproachOut'>"
      ]
     },
     "execution_count": 16,
     "metadata": {},
     "output_type": "execute_result"
    },
    {
     "data": {
      "image/png": "[encoded data removed]",
      "text/plain": [
       "<Figure size 640x480 with 1 Axes>"
      ]
     },
     "metadata": {},
     "output_type": "display_data"
    }
   ],
   "source": [
    "gpt_counts = gpt_4_records['ApproachOut'].value_counts()\n",
    "gpt_counts.plot(kind='bar')"
   ]
  },
  {
   "cell_type": "code",
   "execution_count": 19,
   "id": "387b7117-6cef-4ef8-9707-d2a873b6ef5e",
   "metadata": {},
   "outputs": [
    {
     "name": "stdout",
     "output_type": "stream",
     "text": [
      "Requirement already satisfied: plotly in c:\\users\\nila\\appdata\\local\\programs\\python\\python311\\lib\\site-packages (5.19.0)\n",
      "Requirement already satisfied: tenacity>=6.2.0 in c:\\users\\nila\\appdata\\local\\programs\\python\\python311\\lib\\site-packages (from plotly) (8.2.3)\n",
      "Requirement already satisfied: packaging in c:\\users\\nila\\appdata\\local\\programs\\python\\python311\\lib\\site-packages (from plotly) (23.2)\n"
     ]
    },
    {
     "name": "stderr",
     "output_type": "stream",
     "text": [
      "\n",
      "[notice] A new release of pip is available: 23.3.1 -> 24.0\n",
      "[notice] To update, run: python.exe -m pip install --upgrade pip\n",
      "\n",
      "[notice] A new release of pip is available: 23.3.1 -> 24.0\n",
      "[notice] To update, run: python.exe -m pip install --upgrade pip\n"
     ]
    },
    {
     "name": "stdout",
     "output_type": "stream",
     "text": [
      "Collecting plotly\n",
      "  Downloading plotly-5.19.0-py3-none-any.whl.metadata (7.0 kB)\n",
      "Collecting tenacity>=6.2.0 (from plotly)\n",
      "  Downloading tenacity-8.2.3-py3-none-any.whl.metadata (1.0 kB)\n",
      "Requirement already satisfied: packaging in c:\\users\\nila\\appdata\\local\\programs\\python\\python311\\lib\\site-packages (from plotly) (23.2)\n",
      "Downloading plotly-5.19.0-py3-none-any.whl (15.7 MB)\n",
      "   ---------------------------------------- 0.0/15.7 MB ? eta -:--:--\n",
      "   ---------------------------------------- 0.0/15.7 MB ? eta -:--:--\n",
      "   ---------------------------------------- 0.0/15.7 MB ? eta -:--:--\n",
      "   ---------------------------------------- 0.0/15.7 MB 435.7 kB/s eta 0:00:36\n",
      "    --------------------------------------- 0.3/15.7 MB 2.7 MB/s eta 0:00:06\n",
      "   -- ------------------------------------- 1.0/15.7 MB 6.2 MB/s eta 0:00:03\n",
      "   ---- ----------------------------------- 1.6/15.7 MB 8.0 MB/s eta 0:00:02\n",
      "   ----- ---------------------------------- 2.3/15.7 MB 9.1 MB/s eta 0:00:02\n",
      "   ------- -------------------------------- 2.9/15.7 MB 9.9 MB/s eta 0:00:02\n",
      "   --------- ------------------------------ 3.6/15.7 MB 10.4 MB/s eta 0:00:02\n",
      "   ---------- ----------------------------- 4.3/15.7 MB 10.9 MB/s eta 0:00:02\n",
      "   ------------ --------------------------- 4.9/15.7 MB 11.2 MB/s eta 0:00:01\n",
      "   -------------- ------------------------- 5.6/15.7 MB 11.5 MB/s eta 0:00:01\n",
      "   --------------- ------------------------ 6.2/15.7 MB 11.7 MB/s eta 0:00:01\n",
      "   ----------------- ---------------------- 6.9/15.7 MB 11.9 MB/s eta 0:00:01\n",
      "   ------------------- -------------------- 7.5/15.7 MB 12.1 MB/s eta 0:00:01\n",
      "   -------------------- ------------------- 8.2/15.7 MB 12.2 MB/s eta 0:00:01\n",
      "   ---------------------- ----------------- 8.9/15.7 MB 12.3 MB/s eta 0:00:01\n",
      "   ------------------------ --------------- 9.5/15.7 MB 12.4 MB/s eta 0:00:01\n",
      "   ------------------------- -------------- 10.2/15.7 MB 12.5 MB/s eta 0:00:01\n",
      "   --------------------------- ------------ 10.8/15.7 MB 14.2 MB/s eta 0:00:01\n",
      "   ----------------------------- ---------- 11.5/15.7 MB 14.2 MB/s eta 0:00:01\n",
      "   ------------------------------- -------- 12.2/15.7 MB 14.2 MB/s eta 0:00:01\n",
      "   -------------------------------- ------- 12.8/15.7 MB 14.2 MB/s eta 0:00:01\n",
      "   ---------------------------------- ----- 13.5/15.7 MB 14.2 MB/s eta 0:00:01\n",
      "   ------------------------------------ --- 14.1/15.7 MB 14.2 MB/s eta 0:00:01\n",
      "   ------------------------------------- -- 14.8/15.7 MB 14.2 MB/s eta 0:00:01\n",
      "   ---------------------------------------  15.5/15.7 MB 14.2 MB/s eta 0:00:01\n",
      "   ---------------------------------------  15.7/15.7 MB 14.2 MB/s eta 0:00:01\n",
      "   ---------------------------------------- 15.7/15.7 MB 13.1 MB/s eta 0:00:00\n",
      "Downloading tenacity-8.2.3-py3-none-any.whl (24 kB)\n",
      "Installing collected packages: tenacity, plotly\n",
      "Successfully installed plotly-5.19.0 tenacity-8.2.3\n"
     ]
    }
   ],
   "source": [
    "!pip install plotly"
   ]
  },
  {
   "cell_type": "code",
   "execution_count": 53,
   "id": "f2e042e8-c214-4484-b6dc-c0a19a2c451b",
   "metadata": {},
   "outputs": [
    {
     "data": {
      "text/html": [
       "<iframe\n",
       "    scrolling=\"no\"\n",
       "    width=\"520px\"\n",
       "    height=\"520\"\n",
       "    src=\"iframe_figures/figure_53.html\"\n",
       "    frameborder=\"0\"\n",
       "    allowfullscreen\n",
       "></iframe>\n"
      ]
     },
     "metadata": {},
     "output_type": "display_data"
    }
   ],
   "source": [
    "import plotly.express as px\n",
    "import plotly.io as pio\n",
    "pio.renderers.default = 'iframe_connected'\n",
    "# Count occurrences of values in the 'Category' column\n",
    "gpt_counts = gpt_4_records['ApproachOut'].value_counts().reset_index()\n",
    "gpt_counts.columns = ['Approach', 'Count']\n",
    "fig = px.bar(gpt_counts, x='Approach', y='Count', labels={'Approach': 'Approach', 'Count': 'Count'}, title='GPT-4 results', height=500, width=500)\n",
    "fig.update_layout(bargap=0.60)\n",
    "fig.show()"
   ]
  },
  {
   "cell_type": "code",
   "execution_count": 38,
   "id": "6f48a687-bcaa-495f-9859-cd32d8104613",
   "metadata": {},
   "outputs": [
    {
     "data": {
      "text/html": [
       "<div>\n",
       "<style scoped>\n",
       "    .dataframe tbody tr th:only-of-type {\n",
       "        vertical-align: middle;\n",
       "    }\n",
       "\n",
       "    .dataframe tbody tr th {\n",
       "        vertical-align: top;\n",
       "    }\n",
       "\n",
       "    .dataframe thead th {\n",
       "        text-align: right;\n",
       "    }\n",
       "</style>\n",
       "<table border=\"1\" class=\"dataframe\">\n",
       "  <thead>\n",
       "    <tr style=\"text-align: right;\">\n",
       "      <th></th>\n",
       "      <th>Index</th>\n",
       "      <th>ArgGraph</th>\n",
       "      <th>Model 1</th>\n",
       "      <th>Approach 1</th>\n",
       "      <th>Model 2</th>\n",
       "      <th>Approach 2</th>\n",
       "      <th>Question</th>\n",
       "      <th>Summary 1</th>\n",
       "      <th>Summary 2</th>\n",
       "      <th>Source</th>\n",
       "      <th>UserAnswer</th>\n",
       "      <th>ModelOut</th>\n",
       "      <th>ApproachOut</th>\n",
       "    </tr>\n",
       "  </thead>\n",
       "  <tbody>\n",
       "    <tr>\n",
       "      <th>3</th>\n",
       "      <td>4</td>\n",
       "      <td>www.kialo.com/are-all-our-actions-selfish-to-s...</td>\n",
       "      <td>LLAMA2</td>\n",
       "      <td>depth_first</td>\n",
       "      <td>LLAMA2</td>\n",
       "      <td>divide_conquer</td>\n",
       "      <td>Consider the summaries related to the topic \"a...</td>\n",
       "      <td>\\nHere's a 90-word summary of the debate:\\n\\nI...</td>\n",
       "      <td>\\nPeople can act selflessly and selfishly, wit...</td>\n",
       "      <td>Discussion Title: Are all our actions selfish ...</td>\n",
       "      <td>_x000D_\\nHere's a 90-word summary of the debat...</td>\n",
       "      <td>LLAMA2</td>\n",
       "      <td>divide_conquer</td>\n",
       "    </tr>\n",
       "    <tr>\n",
       "      <th>25</th>\n",
       "      <td>26</td>\n",
       "      <td>www.kialo.com/are-humans-evil-9827</td>\n",
       "      <td>LLAMA2</td>\n",
       "      <td>divide_conquer</td>\n",
       "      <td>LLAMA2</td>\n",
       "      <td>json</td>\n",
       "      <td>Consider the summaries related to the topic \"a...</td>\n",
       "      <td>\\nHumans exhibit both positive and negative be...</td>\n",
       "      <td>Sure, here is a summary of the debate in 90 wo...</td>\n",
       "      <td>Discussion Title: Are Humans Evil?\\n\\n1. Human...</td>\n",
       "      <td>Sure, here is a summary of the debate in 90 wo...</td>\n",
       "      <td>LLAMA2</td>\n",
       "      <td>json</td>\n",
       "    </tr>\n",
       "    <tr>\n",
       "      <th>28</th>\n",
       "      <td>29</td>\n",
       "      <td>www.kialo.com/all-drugs-should-be-legalized-7100</td>\n",
       "      <td>LLAMA2</td>\n",
       "      <td>depth_first</td>\n",
       "      <td>LLAMA2</td>\n",
       "      <td>divide_conquer</td>\n",
       "      <td>Consider the summaries related to the topic \"a...</td>\n",
       "      <td>\\nHere's a 90-word summary of the debate on dr...</td>\n",
       "      <td>\\nThe debate over drug legalization balances i...</td>\n",
       "      <td>Discussion Title: All drugs should be legalize...</td>\n",
       "      <td>_x000D_\\nHere's a 90-word summary of the debat...</td>\n",
       "      <td>LLAMA2</td>\n",
       "      <td>divide_conquer</td>\n",
       "    </tr>\n",
       "  </tbody>\n",
       "</table>\n",
       "</div>"
      ],
      "text/plain": [
       "    Index                                           ArgGraph Model 1  \\\n",
       "3       4  www.kialo.com/are-all-our-actions-selfish-to-s...  LLAMA2   \n",
       "25     26                 www.kialo.com/are-humans-evil-9827  LLAMA2   \n",
       "28     29   www.kialo.com/all-drugs-should-be-legalized-7100  LLAMA2   \n",
       "\n",
       "        Approach 1 Model 2      Approach 2  \\\n",
       "3      depth_first  LLAMA2  divide_conquer   \n",
       "25  divide_conquer  LLAMA2            json   \n",
       "28     depth_first  LLAMA2  divide_conquer   \n",
       "\n",
       "                                             Question  \\\n",
       "3   Consider the summaries related to the topic \"a...   \n",
       "25  Consider the summaries related to the topic \"a...   \n",
       "28  Consider the summaries related to the topic \"a...   \n",
       "\n",
       "                                            Summary 1  \\\n",
       "3   \\nHere's a 90-word summary of the debate:\\n\\nI...   \n",
       "25  \\nHumans exhibit both positive and negative be...   \n",
       "28  \\nHere's a 90-word summary of the debate on dr...   \n",
       "\n",
       "                                            Summary 2  \\\n",
       "3   \\nPeople can act selflessly and selfishly, wit...   \n",
       "25  Sure, here is a summary of the debate in 90 wo...   \n",
       "28  \\nThe debate over drug legalization balances i...   \n",
       "\n",
       "                                               Source  \\\n",
       "3   Discussion Title: Are all our actions selfish ...   \n",
       "25  Discussion Title: Are Humans Evil?\\n\\n1. Human...   \n",
       "28  Discussion Title: All drugs should be legalize...   \n",
       "\n",
       "                                           UserAnswer ModelOut     ApproachOut  \n",
       "3   _x000D_\\nHere's a 90-word summary of the debat...   LLAMA2  divide_conquer  \n",
       "25  Sure, here is a summary of the debate in 90 wo...   LLAMA2            json  \n",
       "28  _x000D_\\nHere's a 90-word summary of the debat...   LLAMA2  divide_conquer  "
      ]
     },
     "execution_count": 38,
     "metadata": {},
     "output_type": "execute_result"
    }
   ],
   "source": [
    "## check for llama results\n",
    "\n",
    "llama2_records = concatenated_df[(concatenated_df['Model 1'] == 'LLAMA2') & (concatenated_df['Model 2'] == 'LLAMA2')]\n",
    "llama2_records.head(3)"
   ]
  },
  {
   "cell_type": "code",
   "execution_count": 39,
   "id": "e17546db-7499-4ca1-b72d-7c7db659666d",
   "metadata": {},
   "outputs": [
    {
     "data": {
      "text/plain": [
       "ApproachOut\n",
       "json              74\n",
       "divide_conquer    45\n",
       "depth_first       31\n",
       "Name: count, dtype: int64"
      ]
     },
     "execution_count": 39,
     "metadata": {},
     "output_type": "execute_result"
    }
   ],
   "source": [
    "llama2_records['ApproachOut'].value_counts()"
   ]
  },
  {
   "cell_type": "code",
   "execution_count": 54,
   "id": "8a682a8e-4553-460f-bc86-52a5ba47cd2d",
   "metadata": {},
   "outputs": [
    {
     "data": {
      "text/html": [
       "<iframe\n",
       "    scrolling=\"no\"\n",
       "    width=\"520px\"\n",
       "    height=\"520\"\n",
       "    src=\"iframe_figures/figure_54.html\"\n",
       "    frameborder=\"0\"\n",
       "    allowfullscreen\n",
       "></iframe>\n"
      ]
     },
     "metadata": {},
     "output_type": "display_data"
    }
   ],
   "source": [
    "import plotly.express as px\n",
    "import plotly.io as pio\n",
    "pio.renderers.default = 'iframe_connected'\n",
    "# Count occurrences of values in the 'Category' column\n",
    "llama_counts = llama2_records['ApproachOut'].value_counts().reset_index()\n",
    "llama_counts.columns = ['Approach', 'Count']\n",
    "fig = px.bar(llama_counts, x='Approach', y='Count', labels={'Approach': 'Approach', 'Count': 'Count'}, title='LLAMA-2 results', height=500, width=500)\n",
    "fig.update_layout(bargap=0.60)\n",
    "fig.show()"
   ]
  },
  {
   "cell_type": "code",
   "execution_count": 47,
   "id": "795c6d1a-6240-43bf-bbd1-6579153234a4",
   "metadata": {},
   "outputs": [
    {
     "data": {
      "text/html": [
       "<div>\n",
       "<style scoped>\n",
       "    .dataframe tbody tr th:only-of-type {\n",
       "        vertical-align: middle;\n",
       "    }\n",
       "\n",
       "    .dataframe tbody tr th {\n",
       "        vertical-align: top;\n",
       "    }\n",
       "\n",
       "    .dataframe thead th {\n",
       "        text-align: right;\n",
       "    }\n",
       "</style>\n",
       "<table border=\"1\" class=\"dataframe\">\n",
       "  <thead>\n",
       "    <tr style=\"text-align: right;\">\n",
       "      <th></th>\n",
       "      <th>Index</th>\n",
       "      <th>ArgGraph</th>\n",
       "      <th>Model 1</th>\n",
       "      <th>Approach 1</th>\n",
       "      <th>Model 2</th>\n",
       "      <th>Approach 2</th>\n",
       "      <th>Question</th>\n",
       "      <th>Summary 1</th>\n",
       "      <th>Summary 2</th>\n",
       "      <th>Source</th>\n",
       "      <th>UserAnswer</th>\n",
       "      <th>ModelOut</th>\n",
       "      <th>ApproachOut</th>\n",
       "    </tr>\n",
       "  </thead>\n",
       "  <tbody>\n",
       "    <tr>\n",
       "      <th>95</th>\n",
       "      <td>96</td>\n",
       "      <td>www.kialo.com/are-homeopathic-remedies-fraudul...</td>\n",
       "      <td>BART-CNN</td>\n",
       "      <td>depth_first</td>\n",
       "      <td>BART-CNN</td>\n",
       "      <td>divide_conquer</td>\n",
       "      <td>Consider the summaries related to the topic \"a...</td>\n",
       "      <td>A positive unreasonable belief, otherwise know...</td>\n",
       "      <td>Proponents of homeopathy claim that greater di...</td>\n",
       "      <td>Discussion Title: Are Homeopathic Remedies Fra...</td>\n",
       "      <td>A positive unreasonable belief, otherwise know...</td>\n",
       "      <td>BART-CNN</td>\n",
       "      <td>depth_first</td>\n",
       "    </tr>\n",
       "    <tr>\n",
       "      <th>141</th>\n",
       "      <td>142</td>\n",
       "      <td>www.kialo.com/anarchy-is-the-only-ethical-syst...</td>\n",
       "      <td>BART-CNN</td>\n",
       "      <td>depth_first</td>\n",
       "      <td>BART-CNN</td>\n",
       "      <td>divide_conquer</td>\n",
       "      <td>Consider the summaries related to the topic \"a...</td>\n",
       "      <td>Anarchy is the only ethical system of society....</td>\n",
       "      <td>A utopian Communist Government is more ethical...</td>\n",
       "      <td>Discussion Title: Anarchy is the only ethical ...</td>\n",
       "      <td>Anarchy is the only ethical system of society....</td>\n",
       "      <td>BART-CNN</td>\n",
       "      <td>depth_first</td>\n",
       "    </tr>\n",
       "    <tr>\n",
       "      <th>152</th>\n",
       "      <td>153</td>\n",
       "      <td>www.kialo.com/are-problems-in-developing-count...</td>\n",
       "      <td>BART-CNN</td>\n",
       "      <td>depth_first</td>\n",
       "      <td>BART-CNN</td>\n",
       "      <td>divide_conquer</td>\n",
       "      <td>Consider the summaries related to the topic \"a...</td>\n",
       "      <td>Problems in the developing world are worse tha...</td>\n",
       "      <td>For various structural reasons, governments in...</td>\n",
       "      <td>Discussion Title: Are problems in developing c...</td>\n",
       "      <td>For various structural reasons, governments in...</td>\n",
       "      <td>BART-CNN</td>\n",
       "      <td>divide_conquer</td>\n",
       "    </tr>\n",
       "  </tbody>\n",
       "</table>\n",
       "</div>"
      ],
      "text/plain": [
       "     Index                                           ArgGraph   Model 1  \\\n",
       "95      96  www.kialo.com/are-homeopathic-remedies-fraudul...  BART-CNN   \n",
       "141    142  www.kialo.com/anarchy-is-the-only-ethical-syst...  BART-CNN   \n",
       "152    153  www.kialo.com/are-problems-in-developing-count...  BART-CNN   \n",
       "\n",
       "      Approach 1   Model 2      Approach 2  \\\n",
       "95   depth_first  BART-CNN  divide_conquer   \n",
       "141  depth_first  BART-CNN  divide_conquer   \n",
       "152  depth_first  BART-CNN  divide_conquer   \n",
       "\n",
       "                                              Question  \\\n",
       "95   Consider the summaries related to the topic \"a...   \n",
       "141  Consider the summaries related to the topic \"a...   \n",
       "152  Consider the summaries related to the topic \"a...   \n",
       "\n",
       "                                             Summary 1  \\\n",
       "95   A positive unreasonable belief, otherwise know...   \n",
       "141  Anarchy is the only ethical system of society....   \n",
       "152  Problems in the developing world are worse tha...   \n",
       "\n",
       "                                             Summary 2  \\\n",
       "95   Proponents of homeopathy claim that greater di...   \n",
       "141  A utopian Communist Government is more ethical...   \n",
       "152  For various structural reasons, governments in...   \n",
       "\n",
       "                                                Source  \\\n",
       "95   Discussion Title: Are Homeopathic Remedies Fra...   \n",
       "141  Discussion Title: Anarchy is the only ethical ...   \n",
       "152  Discussion Title: Are problems in developing c...   \n",
       "\n",
       "                                            UserAnswer  ModelOut  \\\n",
       "95   A positive unreasonable belief, otherwise know...  BART-CNN   \n",
       "141  Anarchy is the only ethical system of society....  BART-CNN   \n",
       "152  For various structural reasons, governments in...  BART-CNN   \n",
       "\n",
       "        ApproachOut  \n",
       "95      depth_first  \n",
       "141     depth_first  \n",
       "152  divide_conquer  "
      ]
     },
     "execution_count": 47,
     "metadata": {},
     "output_type": "execute_result"
    }
   ],
   "source": [
    "## check for bart results\n",
    "\n",
    "bart_records = concatenated_df[(concatenated_df['Model 1'] == 'BART-CNN') & (concatenated_df['Model 2'] == 'BART-CNN')]\n",
    "bart_records.head(3)"
   ]
  },
  {
   "cell_type": "code",
   "execution_count": 48,
   "id": "3acbeb7b-2149-4530-a74a-b5f66aba4445",
   "metadata": {},
   "outputs": [
    {
     "data": {
      "text/plain": [
       "ApproachOut\n",
       "depth_first       32\n",
       "divide_conquer    18\n",
       "Name: count, dtype: int64"
      ]
     },
     "execution_count": 48,
     "metadata": {},
     "output_type": "execute_result"
    }
   ],
   "source": [
    "bart_records['ApproachOut'].value_counts()"
   ]
  },
  {
   "cell_type": "code",
   "execution_count": 55,
   "id": "ef150a31-4341-4fbe-b009-d7a8eb832074",
   "metadata": {},
   "outputs": [
    {
     "data": {
      "text/html": [
       "<iframe\n",
       "    scrolling=\"no\"\n",
       "    width=\"520px\"\n",
       "    height=\"520\"\n",
       "    src=\"iframe_figures/figure_55.html\"\n",
       "    frameborder=\"0\"\n",
       "    allowfullscreen\n",
       "></iframe>\n"
      ]
     },
     "metadata": {},
     "output_type": "display_data"
    }
   ],
   "source": [
    "import plotly.express as px\n",
    "import plotly.io as pio\n",
    "pio.renderers.default = 'iframe_connected'\n",
    "# Count occurrences of values in the 'Category' column\n",
    "bart_counts = bart_records['ApproachOut'].value_counts().reset_index()\n",
    "bart_counts.columns = ['Approach', 'Count']\n",
    "fig = px.bar(bart_counts, x='Approach', y='Count', labels={'Approach': 'Approach', 'Count': 'Count'}, title='BART results', height=500, width=500)\n",
    "fig.update_layout(bargap=0.60)\n",
    "fig.show()"
   ]
  },
  {
   "cell_type": "code",
   "execution_count": 58,
   "id": "aeae80ec-3234-46b4-80f5-219e1f56d825",
   "metadata": {},
   "outputs": [
    {
     "data": {
      "text/html": [
       "<iframe\n",
       "    scrolling=\"no\"\n",
       "    width=\"520px\"\n",
       "    height=\"520\"\n",
       "    src=\"iframe_figures/figure_58.html\"\n",
       "    frameborder=\"0\"\n",
       "    allowfullscreen\n",
       "></iframe>\n"
      ]
     },
     "metadata": {},
     "output_type": "display_data"
    }
   ],
   "source": [
    "# Models\n",
    "import plotly.express as px\n",
    "import plotly.io as pio\n",
    "pio.renderers.default = 'iframe_connected'\n",
    "# Count occurrences of values in the 'Category' column\n",
    "model_counts = concatenated_df['ModelOut'].value_counts().reset_index()\n",
    "model_counts.columns = ['Model', 'Count']\n",
    "fig = px.bar(model_counts, x='Model', y='Count', labels={'Model': 'Model', 'Count': 'Count'}, title='Model results', height=500, width=500)\n",
    "fig.update_layout(bargap=0.60)\n",
    "fig.show()"
   ]
  },
  {
   "cell_type": "code",
   "execution_count": 62,
   "id": "09bcb659-b21d-4b74-a2d4-5df603dad90c",
   "metadata": {},
   "outputs": [
    {
     "data": {
      "text/html": [
       "<div>\n",
       "<style scoped>\n",
       "    .dataframe tbody tr th:only-of-type {\n",
       "        vertical-align: middle;\n",
       "    }\n",
       "\n",
       "    .dataframe tbody tr th {\n",
       "        vertical-align: top;\n",
       "    }\n",
       "\n",
       "    .dataframe thead th {\n",
       "        text-align: right;\n",
       "    }\n",
       "</style>\n",
       "<table border=\"1\" class=\"dataframe\">\n",
       "  <thead>\n",
       "    <tr style=\"text-align: right;\">\n",
       "      <th></th>\n",
       "      <th>ApproachOut</th>\n",
       "      <th>count</th>\n",
       "    </tr>\n",
       "  </thead>\n",
       "  <tbody>\n",
       "    <tr>\n",
       "      <th>0</th>\n",
       "      <td>depth_first</td>\n",
       "      <td>499</td>\n",
       "    </tr>\n",
       "    <tr>\n",
       "      <th>1</th>\n",
       "      <td>divide_conquer</td>\n",
       "      <td>463</td>\n",
       "    </tr>\n",
       "    <tr>\n",
       "      <th>2</th>\n",
       "      <td>json</td>\n",
       "      <td>438</td>\n",
       "    </tr>\n",
       "  </tbody>\n",
       "</table>\n",
       "</div>"
      ],
      "text/plain": [
       "      ApproachOut  count\n",
       "0     depth_first    499\n",
       "1  divide_conquer    463\n",
       "2            json    438"
      ]
     },
     "execution_count": 62,
     "metadata": {},
     "output_type": "execute_result"
    }
   ],
   "source": [
    "# Approaches\n",
    "\n",
    "import plotly.express as px\n",
    "import plotly.io as pio\n",
    "pio.renderers.default = 'iframe_connected'\n",
    "# Count occurrences of values in the 'Category' column\n",
    "approach_counts = concatenated_df['ApproachOut'].value_counts().reset_index()\n",
    "approach_counts"
   ]
  },
  {
   "cell_type": "code",
   "execution_count": 63,
   "id": "9ea90c23-0ae7-4060-9061-4431f3e5fff4",
   "metadata": {},
   "outputs": [
    {
     "data": {
      "text/html": [
       "<iframe\n",
       "    scrolling=\"no\"\n",
       "    width=\"520px\"\n",
       "    height=\"520\"\n",
       "    src=\"iframe_figures/figure_63.html\"\n",
       "    frameborder=\"0\"\n",
       "    allowfullscreen\n",
       "></iframe>\n"
      ]
     },
     "metadata": {},
     "output_type": "display_data"
    }
   ],
   "source": [
    "approach_counts.columns = ['Approach', 'Count']\n",
    "fig = px.bar(approach_counts, x='Approach', y='Count', labels={'Approach': 'Approach', 'Count': 'Count'}, title='Approach results', height=500, width=500)\n",
    "fig.update_layout(bargap=0.60)\n",
    "fig.show()"
   ]
  },
  {
   "cell_type": "code",
   "execution_count": 68,
   "id": "cc21402a-5961-4f41-a294-809ac8557050",
   "metadata": {},
   "outputs": [
    {
     "data": {
      "text/plain": [
       "ModelOut  ApproachOut   \n",
       "BART-CNN  depth_first        87\n",
       "          divide_conquer     81\n",
       "GPT-4     depth_first       222\n",
       "          divide_conquer    202\n",
       "          json              228\n",
       "LLAMA2    depth_first       190\n",
       "          divide_conquer    180\n",
       "          json              210\n",
       "Name: Index, dtype: int64"
      ]
     },
     "execution_count": 68,
     "metadata": {},
     "output_type": "execute_result"
    }
   ],
   "source": [
    "concatenated_df.groupby(['ModelOut','ApproachOut'])['Index'].count()"
   ]
  },
  {
   "cell_type": "code",
   "execution_count": 70,
   "id": "46f9ea9e-04c3-4a76-acf1-fea8566dc587",
   "metadata": {},
   "outputs": [
    {
     "data": {
      "text/html": [
       "<iframe\n",
       "    scrolling=\"no\"\n",
       "    width=\"100%\"\n",
       "    height=\"545px\"\n",
       "    src=\"iframe_figures/figure_70.html\"\n",
       "    frameborder=\"0\"\n",
       "    allowfullscreen\n",
       "></iframe>\n"
      ]
     },
     "metadata": {},
     "output_type": "display_data"
    }
   ],
   "source": [
    "import pandas as pd\n",
    "import plotly.express as px\n",
    "\n",
    "# Group by 'ModelOut' and 'ApproachOut', and count occurrences of 'Index'\n",
    "grouped_df = concatenated_df.groupby(['ModelOut', 'ApproachOut'])['Index'].count().reset_index()\n",
    "grouped_df.columns = ['ModelOut', 'ApproachOut', 'Count']\n",
    "\n",
    "# Create a bar chart using Plotly\n",
    "fig = px.bar(grouped_df, x='ModelOut', y='Count', color='ApproachOut',\n",
    "             labels={'ModelOut': 'Model', 'Count': 'Count', 'ApproachOut': 'Approach'},\n",
    "             title='Count of Index by Model and Approach')\n",
    "fig.update_layout(bargap=0.60)\n",
    "fig.show()"
   ]
  },
  {
   "cell_type": "code",
   "execution_count": 73,
   "id": "b49a36a5-5bfc-47b1-9d9a-95b870a7aef3",
   "metadata": {},
   "outputs": [
    {
     "data": {
      "text/html": [
       "<iframe\n",
       "    scrolling=\"no\"\n",
       "    width=\"100%\"\n",
       "    height=\"545px\"\n",
       "    src=\"iframe_figures/figure_73.html\"\n",
       "    frameborder=\"0\"\n",
       "    allowfullscreen\n",
       "></iframe>\n"
      ]
     },
     "metadata": {},
     "output_type": "display_data"
    }
   ],
   "source": [
    "import pandas as pd\n",
    "import plotly.express as px\n",
    "\n",
    "# Group by 'ModelOut' and 'ApproachOut', and count occurrences of 'Index'\n",
    "grouped_df = concatenated_df.groupby(['ModelOut', 'ApproachOut'])['Index'].count().reset_index()\n",
    "grouped_df.columns = ['ModelOut', 'ApproachOut', 'Count']\n",
    "\n",
    "# Create a histogram using Plotly\n",
    "fig = px.histogram(grouped_df, x='ModelOut', y='Count', color='ApproachOut',\n",
    "                   labels={'ModelOut': 'Model', 'Count': 'Count', 'ApproachOut': 'Approach'},\n",
    "                   title='Count of Index by Model and Approach',\n",
    "                   histfunc='sum',  # Aggregate counts by summing\n",
    "                   barmode='group')  # Group bars\n",
    "fig.update_layout(bargap=0.60)\n",
    "fig.show()"
   ]
  },
  {
   "cell_type": "code",
   "execution_count": null,
   "id": "42019f01-01fb-4ce7-b3ae-349de8ccd91f",
   "metadata": {},
   "outputs": [],
   "source": []
  }
 ],
 "metadata": {
  "kernelspec": {
   "display_name": "Python 3 (ipykernel)",
   "language": "python",
   "name": "python3"
  },
  "language_info": {
   "codemirror_mode": {
    "name": "ipython",
    "version": 3
   },
   "file_extension": ".py",
   "mimetype": "text/x-python",
   "name": "python",
   "nbconvert_exporter": "python",
   "pygments_lexer": "ipython3",
   "version": "3.11.6"
  }
 },
 "nbformat": 4,
 "nbformat_minor": 5
}
